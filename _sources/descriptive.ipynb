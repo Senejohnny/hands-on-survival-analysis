{
 "cells": [
  {
   "cell_type": "markdown",
   "metadata": {},
   "source": [
    "# Descriptive Survival Analysis\n",
    "\n",
    "This type of analytics answer the question \"what has happened?\""
   ]
  },
  {
   "cell_type": "markdown",
   "metadata": {},
   "source": [
    "# Packages"
   ]
  },
  {
   "cell_type": "code",
   "execution_count": 82,
   "metadata": {},
   "outputs": [],
   "source": [
    "# ! pip install lifelines"
   ]
  },
  {
   "cell_type": "code",
   "execution_count": 67,
   "metadata": {},
   "outputs": [],
   "source": [
    "import pandas as pd\n",
    "from lifelines import KaplanMeierFitter\n",
    "from matplotlib import pyplot as plt"
   ]
  },
  {
   "cell_type": "markdown",
   "metadata": {},
   "source": [
    "# Introduction\n",
    "\n",
    "In survival analysis the outcome is made of two variables, time and event. Sometimes such problems are broken down to sub-optimal problems such as regression on time or classification on event. That is why survival analysis is also considered as the superset of classification and regression.\n",
    "\n",
    "Since the outcome has two variables, presentation of the outcome is either via survival or hazard functions. \n",
    "\n",
    "\n",
    "- In descriptive analytics, we focus on what has happened to the outcome y(time, event) \n",
    "- In predictive analytics, we predict what will happen to the outcome y(time, event) given the features x. "
   ]
  },
  {
   "cell_type": "markdown",
   "metadata": {},
   "source": [
    "# Survival function\n",
    "\n",
    "The survival function $S(t)$, is defined as the probability that an event-of-interest occurs after a certain time $t$. \n",
    "\n",
    "$$\n",
    "S(t) = P(T > t)\n",
    "$$\n",
    "\n",
    "where $T$ is the time at which the event occurs. \n",
    "\n",
    "**No Censoring**: If there are no censored observations, the most natural estimator for survival is the empirical estimator\n",
    "\n",
    "$$\n",
    "\\hat S(t) = \\frac{1}{n} \\sum_{i=0}^n I(t_i > t)\n",
    "$$\n",
    "\n",
    "which is the proportion of the events observed after time $t$. \n",
    "\n",
    "**Censoring**: In presence of censoring, Kaplan and Meier (1958) proposed a nonparametric estimate of the survival function, which is the generalization of the empirical estimator for censored data\n",
    "\n",
    "\n",
    "$$\n",
    "\\hat S(t) = \\prod_{t_i<t} \\hat S_i(t) \n",
    "$$\n",
    "$$\n",
    "\\hat S_i(t) = 1 - \\frac{d_i}{n_i} \n",
    "$$\n",
    "\n",
    "Where $t_i$ is the observed event times, $d_i$ and $n_i$ are the number of events and subjects at risk at time $t_i$."
   ]
  },
  {
   "cell_type": "markdown",
   "metadata": {},
   "source": [
    "# Examples"
   ]
  },
  {
   "cell_type": "markdown",
   "metadata": {},
   "source": [
    "## Example 1: KM curve with no censoring \n",
    "Consider the life of 10 light bulbs until they burn out"
   ]
  },
  {
   "cell_type": "code",
   "execution_count": 68,
   "metadata": {},
   "outputs": [
    {
     "data": {
      "text/html": [
       "<div>\n",
       "<style scoped>\n",
       "    .dataframe tbody tr th:only-of-type {\n",
       "        vertical-align: middle;\n",
       "    }\n",
       "\n",
       "    .dataframe tbody tr th {\n",
       "        vertical-align: top;\n",
       "    }\n",
       "\n",
       "    .dataframe thead th {\n",
       "        text-align: right;\n",
       "    }\n",
       "</style>\n",
       "<table border=\"1\" class=\"dataframe\">\n",
       "  <thead>\n",
       "    <tr style=\"text-align: right;\">\n",
       "      <th></th>\n",
       "      <th>T</th>\n",
       "      <th>E</th>\n",
       "    </tr>\n",
       "  </thead>\n",
       "  <tbody>\n",
       "    <tr>\n",
       "      <th>0</th>\n",
       "      <td>3</td>\n",
       "      <td>1</td>\n",
       "    </tr>\n",
       "    <tr>\n",
       "      <th>1</th>\n",
       "      <td>4</td>\n",
       "      <td>1</td>\n",
       "    </tr>\n",
       "    <tr>\n",
       "      <th>2</th>\n",
       "      <td>4</td>\n",
       "      <td>1</td>\n",
       "    </tr>\n",
       "    <tr>\n",
       "      <th>3</th>\n",
       "      <td>6</td>\n",
       "      <td>1</td>\n",
       "    </tr>\n",
       "    <tr>\n",
       "      <th>4</th>\n",
       "      <td>7</td>\n",
       "      <td>1</td>\n",
       "    </tr>\n",
       "    <tr>\n",
       "      <th>5</th>\n",
       "      <td>7</td>\n",
       "      <td>1</td>\n",
       "    </tr>\n",
       "    <tr>\n",
       "      <th>6</th>\n",
       "      <td>8</td>\n",
       "      <td>1</td>\n",
       "    </tr>\n",
       "    <tr>\n",
       "      <th>7</th>\n",
       "      <td>10</td>\n",
       "      <td>1</td>\n",
       "    </tr>\n",
       "    <tr>\n",
       "      <th>8</th>\n",
       "      <td>11</td>\n",
       "      <td>1</td>\n",
       "    </tr>\n",
       "    <tr>\n",
       "      <th>9</th>\n",
       "      <td>13</td>\n",
       "      <td>1</td>\n",
       "    </tr>\n",
       "  </tbody>\n",
       "</table>\n",
       "</div>"
      ],
      "text/plain": [
       "    T  E\n",
       "0   3  1\n",
       "1   4  1\n",
       "2   4  1\n",
       "3   6  1\n",
       "4   7  1\n",
       "5   7  1\n",
       "6   8  1\n",
       "7  10  1\n",
       "8  11  1\n",
       "9  13  1"
      ]
     },
     "execution_count": 68,
     "metadata": {},
     "output_type": "execute_result"
    }
   ],
   "source": [
    "data = {\n",
    "    'T': [3, 4, 4, 6, 7, 7, 8, 10, 11, 13],\n",
    "    'E': [1, 1, 1, 1, 1, 1, 1, 1, 1, 1 ], # due to no censoring, all events are 1 \n",
    "}\n",
    "\n",
    "df = pd.DataFrame(data)\n",
    "df"
   ]
  },
  {
   "cell_type": "code",
   "execution_count": 69,
   "metadata": {},
   "outputs": [
    {
     "data": {
      "text/plain": [
       "Text(0, 0.5, 'Survival Probability')"
      ]
     },
     "execution_count": 69,
     "metadata": {},
     "output_type": "execute_result"
    },
    {
     "data": {
      "image/png": "[encoded data removed]",
      "text/plain": [
       "<Figure size 640x480 with 1 Axes>"
      ]
     },
     "metadata": {},
     "output_type": "display_data"
    }
   ],
   "source": [
    "# Create KaplanMeierFitter object\n",
    "kmf = KaplanMeierFitter()\n",
    "\n",
    "# Fit the model\n",
    "kmf.fit(durations=df['T'], event_observed=df['E'])\n",
    "\n",
    "# Plot the curve \n",
    "kmf.plot(ci_show=False)\n",
    "plt.title('Light Bulb Survival plot')\n",
    "plt.xlabel('Time (year)')\n",
    "plt.ylabel('Survival Probability')"
   ]
  },
  {
   "cell_type": "markdown",
   "metadata": {},
   "source": [
    "Interpretation: The probability that a light bulb survives longer than 8 year is 30%\n",
    "\n",
    "Given 10 samples and no censoring, at every event occurence the curve drops 1/10. The underlying survival_function_ method confirms this.   \n"
   ]
  },
  {
   "cell_type": "code",
   "execution_count": 70,
   "metadata": {},
   "outputs": [
    {
     "data": {
      "text/html": [
       "<div>\n",
       "<style scoped>\n",
       "    .dataframe tbody tr th:only-of-type {\n",
       "        vertical-align: middle;\n",
       "    }\n",
       "\n",
       "    .dataframe tbody tr th {\n",
       "        vertical-align: top;\n",
       "    }\n",
       "\n",
       "    .dataframe thead th {\n",
       "        text-align: right;\n",
       "    }\n",
       "</style>\n",
       "<table border=\"1\" class=\"dataframe\">\n",
       "  <thead>\n",
       "    <tr style=\"text-align: right;\">\n",
       "      <th></th>\n",
       "      <th>KM_estimate</th>\n",
       "    </tr>\n",
       "    <tr>\n",
       "      <th>timeline</th>\n",
       "      <th></th>\n",
       "    </tr>\n",
       "  </thead>\n",
       "  <tbody>\n",
       "    <tr>\n",
       "      <th>0.0</th>\n",
       "      <td>1.0</td>\n",
       "    </tr>\n",
       "    <tr>\n",
       "      <th>3.0</th>\n",
       "      <td>0.9</td>\n",
       "    </tr>\n",
       "    <tr>\n",
       "      <th>4.0</th>\n",
       "      <td>0.7</td>\n",
       "    </tr>\n",
       "    <tr>\n",
       "      <th>6.0</th>\n",
       "      <td>0.6</td>\n",
       "    </tr>\n",
       "    <tr>\n",
       "      <th>7.0</th>\n",
       "      <td>0.4</td>\n",
       "    </tr>\n",
       "    <tr>\n",
       "      <th>8.0</th>\n",
       "      <td>0.3</td>\n",
       "    </tr>\n",
       "    <tr>\n",
       "      <th>10.0</th>\n",
       "      <td>0.2</td>\n",
       "    </tr>\n",
       "    <tr>\n",
       "      <th>11.0</th>\n",
       "      <td>0.1</td>\n",
       "    </tr>\n",
       "    <tr>\n",
       "      <th>13.0</th>\n",
       "      <td>0.0</td>\n",
       "    </tr>\n",
       "  </tbody>\n",
       "</table>\n",
       "</div>"
      ],
      "text/plain": [
       "          KM_estimate\n",
       "timeline             \n",
       "0.0               1.0\n",
       "3.0               0.9\n",
       "4.0               0.7\n",
       "6.0               0.6\n",
       "7.0               0.4\n",
       "8.0               0.3\n",
       "10.0              0.2\n",
       "11.0              0.1\n",
       "13.0              0.0"
      ]
     },
     "execution_count": 70,
     "metadata": {},
     "output_type": "execute_result"
    }
   ],
   "source": [
    "kmf.survival_function_"
   ]
  },
  {
   "cell_type": "markdown",
   "metadata": {},
   "source": [
    "## Example 2: KM curve with censoring \n",
    "\n",
    "Let's consider the same example with 10 light bulbs, where some of them are not yet burned out or we have lost track of thier status(right-censoring)"
   ]
  },
  {
   "cell_type": "code",
   "execution_count": 71,
   "metadata": {},
   "outputs": [],
   "source": [
    "data = {\n",
    "    'T': [3, 4, 4, 6, 7, 7, 8, 10, 11, 13],\n",
    "    'E': [1, 1, 0, 1, 1, 0, 1, 1, 1, 0],\n",
    "}\n",
    "\n",
    "df = pd.DataFrame(data)"
   ]
  },
  {
   "cell_type": "code",
   "execution_count": 72,
   "metadata": {},
   "outputs": [
    {
     "data": {
      "text/plain": [
       "Text(0, 0.5, 'Survival Probability')"
      ]
     },
     "execution_count": 72,
     "metadata": {},
     "output_type": "execute_result"
    },
    {
     "data": {
      "image/png": "[encoded data removed]",
      "text/plain": [
       "<Figure size 640x480 with 1 Axes>"
      ]
     },
     "metadata": {},
     "output_type": "display_data"
    }
   ],
   "source": [
    "kmf = KaplanMeierFitter()\n",
    "kmf.fit(durations=df['T'], event_observed=df['E'])\n",
    "\n",
    "kmf.plot(ci_show=False)\n",
    "plt.title('Light Bulb Survival plot')\n",
    "plt.xlabel('Time (year)')\n",
    "plt.ylabel('Survival Probability')"
   ]
  },
  {
   "cell_type": "code",
   "execution_count": 73,
   "metadata": {},
   "outputs": [
    {
     "data": {
      "text/html": [
       "<div>\n",
       "<style scoped>\n",
       "    .dataframe tbody tr th:only-of-type {\n",
       "        vertical-align: middle;\n",
       "    }\n",
       "\n",
       "    .dataframe tbody tr th {\n",
       "        vertical-align: top;\n",
       "    }\n",
       "\n",
       "    .dataframe thead th {\n",
       "        text-align: right;\n",
       "    }\n",
       "</style>\n",
       "<table border=\"1\" class=\"dataframe\">\n",
       "  <thead>\n",
       "    <tr style=\"text-align: right;\">\n",
       "      <th></th>\n",
       "      <th>timeline</th>\n",
       "      <th>KM_estimate</th>\n",
       "    </tr>\n",
       "  </thead>\n",
       "  <tbody>\n",
       "    <tr>\n",
       "      <th>0</th>\n",
       "      <td>0.0</td>\n",
       "      <td>1.000000</td>\n",
       "    </tr>\n",
       "    <tr>\n",
       "      <th>1</th>\n",
       "      <td>3.0</td>\n",
       "      <td>0.900000</td>\n",
       "    </tr>\n",
       "    <tr>\n",
       "      <th>2</th>\n",
       "      <td>4.0</td>\n",
       "      <td>0.800000</td>\n",
       "    </tr>\n",
       "    <tr>\n",
       "      <th>3</th>\n",
       "      <td>6.0</td>\n",
       "      <td>0.685714</td>\n",
       "    </tr>\n",
       "    <tr>\n",
       "      <th>4</th>\n",
       "      <td>7.0</td>\n",
       "      <td>0.571429</td>\n",
       "    </tr>\n",
       "    <tr>\n",
       "      <th>5</th>\n",
       "      <td>8.0</td>\n",
       "      <td>0.428571</td>\n",
       "    </tr>\n",
       "    <tr>\n",
       "      <th>6</th>\n",
       "      <td>10.0</td>\n",
       "      <td>0.285714</td>\n",
       "    </tr>\n",
       "    <tr>\n",
       "      <th>7</th>\n",
       "      <td>11.0</td>\n",
       "      <td>0.142857</td>\n",
       "    </tr>\n",
       "    <tr>\n",
       "      <th>8</th>\n",
       "      <td>13.0</td>\n",
       "      <td>0.142857</td>\n",
       "    </tr>\n",
       "  </tbody>\n",
       "</table>\n",
       "</div>"
      ],
      "text/plain": [
       "   timeline  KM_estimate\n",
       "0       0.0     1.000000\n",
       "1       3.0     0.900000\n",
       "2       4.0     0.800000\n",
       "3       6.0     0.685714\n",
       "4       7.0     0.571429\n",
       "5       8.0     0.428571\n",
       "6      10.0     0.285714\n",
       "7      11.0     0.142857\n",
       "8      13.0     0.142857"
      ]
     },
     "execution_count": 73,
     "metadata": {},
     "output_type": "execute_result"
    }
   ],
   "source": [
    "kmf.survival_function_.reset_index()"
   ]
  },
  {
   "cell_type": "markdown",
   "metadata": {},
   "source": [
    "Let's see how the KM survival function S(t) is constructed from the KM curve table\n",
    "t | d| c|n |S_i(t)| S(t) \n",
    "--|--|--|--|--|--|\n",
    "0 | 0| 0|10|10/10 =1 | 1\n",
    "3 | 1| 0|10|1-1/10 =9/10| 0.9\n",
    "4 | 1| 1| 9|1-1/9 = 8/9 | 0.8\n",
    "6 | 1| 0| 7|1-1/7 = 6/7 | 0.6857\n",
    "7 | 1| 1| 6|1-1/6 = 5/6 | 0.5714\n",
    "8 | 1| 0| 4|1-1/4 = 3/4 | 0.4285\n",
    "10| 1| 0| 3|1-1/3 = 2/3 | 0.2857\n",
    "11| 1| 0| 2|1-1/2 = 1/2 | 0.1428\n",
    "13| 0| 1| 1|1-0/1 = 1   | 0.1428"
   ]
  },
  {
   "cell_type": "markdown",
   "metadata": {},
   "source": [
    "## Example 3: Comparing Survival Curves\n"
   ]
  },
  {
   "cell_type": "markdown",
   "metadata": {},
   "source": [
    "### Data:\n",
    "\n",
    "The data is related to 432 convicts who were released from Maryland state prisons in the 1970s and who were followed up for one year after release. Half the released convicts were assigned at random to an experimental treatment in which they were given financial aid; half did not receive aid {cite}`rossi2013money`."
   ]
  },
  {
   "cell_type": "code",
   "execution_count": 99,
   "metadata": {},
   "outputs": [
    {
     "data": {
      "image/png": "[encoded data removed]",
      "text/plain": [
       "<Figure size 640x480 with 1 Axes>"
      ]
     },
     "metadata": {},
     "output_type": "display_data"
    }
   ],
   "source": [
    "from lifelines.datasets import load_rossi\n",
    "import numpy as np\n",
    "\n",
    "# loading data \n",
    "data = load_rossi()\n",
    "treat = data.query(\"fin == 1\") \n",
    "ctrl = data.query(\"fin == 0\")\n",
    "\n",
    "# init & Fitting KM curves \n",
    "ax = plt.subplot()\n",
    "t = np.linspace(0, 55, 55)\n",
    "kmf1 = KaplanMeierFitter()\n",
    "kmf2 = KaplanMeierFitter()\n",
    "kmf1.fit(treat['week'], treat['arrest'], timeline=t, label=\"financial aid Yes\")\n",
    "kmf2.fit(ctrl['week'], ctrl['arrest'], timeline=t, label=\"financial aid No\")\n",
    "\n",
    "# plotting the KM curves\n",
    "kmf1.plot(ax=ax), kmf2.plot(ax=ax)\n",
    "ax.set_title(\"Criminal Recidivism in 52-week After Release\");\n",
    "ax.set_ylabel(\"P(surviving from getting rearrested)\");\n",
    "ax.set_xlabel(\"time (week)\");"
   ]
  },
  {
   "cell_type": "markdown",
   "metadata": {},
   "source": [
    "### Statistical Significance \n",
    "\n",
    "Are these two curves statistically equivalent? To answer this question, we can use the log-rank test (Mantel 1966; Peto and Peto 1972). This is the most well-known and widely used method to test the null hypothesis of no difference in survival between two or more independent groups."
   ]
  },
  {
   "cell_type": "code",
   "execution_count": 75,
   "metadata": {},
   "outputs": [
    {
     "name": "stdout",
     "output_type": "stream",
     "text": [
      "p-value: 0.0501\n"
     ]
    }
   ],
   "source": [
    "\n",
    "from lifelines.statistics import logrank_test\n",
    "log_rank_test_result = logrank_test(\n",
    "    treat['week'], \n",
    "    ctrl['week'], \n",
    "    event_observed_A=treat['arrest'], \n",
    "    event_observed_B=ctrl['arrest'],\n",
    ")\n",
    "print(f'p-value: {log_rank_test_result.p_value:.4f}')\n"
   ]
  },
  {
   "cell_type": "markdown",
   "metadata": {},
   "source": [
    "```{note} \n",
    "* While `log-rank_test` function is used for two KM curves, `multivariate_logrank_test` can be used for more than 2 KM curves. \n",
    "* These methods also provide weightings for early vs late difference hypothesis testing\n",
    "```"
   ]
  },
  {
   "cell_type": "markdown",
   "metadata": {},
   "source": [
    "### Best practices for visualizing KM plots\n",
    "\n",
    "In a recent survey from variety of stakeholders in healthcare, suggested that the addition of summary tables and confidence intervals greatly increased the effectiveness of Kaplan-Meier plots[article](https://pubmed.ncbi.nlm.nih.gov/31575572/)\n",
    "\n",
    "The data is related to the life-span of political leaders in office. Event is triggered if leader is observed to have left office. Censoring happens when the leaders  died in office or were in office by 2008 (study finish time)."
   ]
  },
  {
   "cell_type": "code",
   "execution_count": 100,
   "metadata": {},
   "outputs": [
    {
     "data": {
      "image/png": "[encoded data removed]",
      "text/plain": [
       "<Figure size 600x500 with 2 Axes>"
      ]
     },
     "metadata": {},
     "output_type": "display_data"
    }
   ],
   "source": [
    "from lifelines.datasets import load_dd\n",
    "from lifelines.plotting import add_at_risk_counts\n",
    "\n",
    "data = load_dd()\n",
    "kmf1, kmf2 = KaplanMeierFitter(), KaplanMeierFitter()\n",
    "fig, ax = plt.subplots(1, 1, figsize=(6, 5))\n",
    "t = np.linspace(0, 50, 51)\n",
    "\n",
    "democracy = data.query(\"democracy == 'Democracy' \")\n",
    "no_democracy = data.query(\"democracy == 'Non-democracy' \")\n",
    "\n",
    "kmf1.fit(democracy['duration'], democracy['observed'], timeline=t, label=\"Democratic\")\n",
    "kmf2.fit(no_democracy['duration'], no_democracy['observed'], timeline=t, label=\"Non-democratic\")\n",
    "\n",
    "# Confidence Intervals \n",
    "kmf1.plot(ci_show=True, ax=ax), kmf2.plot(ci_show=True, ax=ax)\n",
    "# Summary Tables \n",
    "add_at_risk_counts(kmf1, kmf2, ax=ax, fontsize=10, rows_to_show=[\"At risk\", \"Censored\", \"Events\"])\n",
    "\n",
    "ax.set_title(\"Lifespans of different global regimes\");\n",
    "ax.set_xlabel(\"Time (year)\");\n",
    "ax.set_ylabel(\"P(leader is in office)\");"
   ]
  },
  {
   "cell_type": "markdown",
   "metadata": {},
   "source": [
    "## Example 4: What is the objective of this visualization?\n",
    "\n",
    "This is a real-world example from ABN AMRO which will be shown in the presentation deck due to data sensitivity "
   ]
  },
  {
   "cell_type": "markdown",
   "metadata": {},
   "source": [
    "# Exercises"
   ]
  },
  {
   "cell_type": "markdown",
   "metadata": {},
   "source": [
    "## Exercise 1: What is strange in this visualization?\n",
    "\n",
    "This is a real-world example from ABN AMRO which will be shown in the presentation deck due to data sensitivity "
   ]
  },
  {
   "cell_type": "markdown",
   "metadata": {},
   "source": [
    "## Exercise 2: Exploratory Data Analysis\n",
    "\n",
    "### Data\n",
    "\n",
    "The data comes from German Breast Cancer Study Group, where in Randomized 2 x 2 clinical trial was aiming to evaluate hormonal treatment and the duration of chemotherapy in node-positive breast cancer patients {cite}`schumacher1994randomized`\n",
    "\n",
    "- horTh: hormonal therapy, a factor at two levels no and yes.\n",
    "\n",
    "\n",
    "- age: of the patients in years.\n",
    "- menostat: 0 menopausal status, a factor at two levels pre (premenopausal) and post (postmenopausal).\n",
    "- tsize: tumor size (in mm).\n",
    "- tgrade: tumor grade, a ordered factor at levels I < II < III.\n",
    "- pnodes: number of positive nodes.\n",
    "- progrec: progesterone receptor (in fmol).\n",
    "- estrec: estrogen receptor (in fmol).\n",
    "- time: recurrence free survival time (in days).\n",
    "- cens: censoring indicator (0- censored, 1- event).\n",
    "\n",
    "*Recurrence Free Survival: defined as the length of time from the end of primary treatment (Surgery/chemotherapy) until there is evidence of cancer recurrence or until the death of the patient.*"
   ]
  },
  {
   "cell_type": "code",
   "execution_count": 78,
   "metadata": {},
   "outputs": [
    {
     "data": {
      "text/html": [
       "<div>\n",
       "<style scoped>\n",
       "    .dataframe tbody tr th:only-of-type {\n",
       "        vertical-align: middle;\n",
       "    }\n",
       "\n",
       "    .dataframe tbody tr th {\n",
       "        vertical-align: top;\n",
       "    }\n",
       "\n",
       "    .dataframe thead th {\n",
       "        text-align: right;\n",
       "    }\n",
       "</style>\n",
       "<table border=\"1\" class=\"dataframe\">\n",
       "  <thead>\n",
       "    <tr style=\"text-align: right;\">\n",
       "      <th></th>\n",
       "      <th>horTh</th>\n",
       "      <th>age</th>\n",
       "      <th>menostat</th>\n",
       "      <th>tsize</th>\n",
       "      <th>tgrade</th>\n",
       "      <th>pnodes</th>\n",
       "      <th>progrec</th>\n",
       "      <th>estrec</th>\n",
       "      <th>time</th>\n",
       "      <th>cens</th>\n",
       "    </tr>\n",
       "  </thead>\n",
       "  <tbody>\n",
       "    <tr>\n",
       "      <th>0</th>\n",
       "      <td>no</td>\n",
       "      <td>70</td>\n",
       "      <td>Post</td>\n",
       "      <td>21</td>\n",
       "      <td>II</td>\n",
       "      <td>3</td>\n",
       "      <td>48</td>\n",
       "      <td>66</td>\n",
       "      <td>1814</td>\n",
       "      <td>1</td>\n",
       "    </tr>\n",
       "    <tr>\n",
       "      <th>1</th>\n",
       "      <td>yes</td>\n",
       "      <td>56</td>\n",
       "      <td>Post</td>\n",
       "      <td>12</td>\n",
       "      <td>II</td>\n",
       "      <td>7</td>\n",
       "      <td>61</td>\n",
       "      <td>77</td>\n",
       "      <td>2018</td>\n",
       "      <td>1</td>\n",
       "    </tr>\n",
       "    <tr>\n",
       "      <th>2</th>\n",
       "      <td>yes</td>\n",
       "      <td>58</td>\n",
       "      <td>Post</td>\n",
       "      <td>35</td>\n",
       "      <td>II</td>\n",
       "      <td>9</td>\n",
       "      <td>52</td>\n",
       "      <td>271</td>\n",
       "      <td>712</td>\n",
       "      <td>1</td>\n",
       "    </tr>\n",
       "    <tr>\n",
       "      <th>3</th>\n",
       "      <td>yes</td>\n",
       "      <td>59</td>\n",
       "      <td>Post</td>\n",
       "      <td>17</td>\n",
       "      <td>II</td>\n",
       "      <td>4</td>\n",
       "      <td>60</td>\n",
       "      <td>29</td>\n",
       "      <td>1807</td>\n",
       "      <td>1</td>\n",
       "    </tr>\n",
       "    <tr>\n",
       "      <th>4</th>\n",
       "      <td>no</td>\n",
       "      <td>73</td>\n",
       "      <td>Post</td>\n",
       "      <td>35</td>\n",
       "      <td>II</td>\n",
       "      <td>1</td>\n",
       "      <td>26</td>\n",
       "      <td>65</td>\n",
       "      <td>772</td>\n",
       "      <td>1</td>\n",
       "    </tr>\n",
       "    <tr>\n",
       "      <th>...</th>\n",
       "      <td>...</td>\n",
       "      <td>...</td>\n",
       "      <td>...</td>\n",
       "      <td>...</td>\n",
       "      <td>...</td>\n",
       "      <td>...</td>\n",
       "      <td>...</td>\n",
       "      <td>...</td>\n",
       "      <td>...</td>\n",
       "      <td>...</td>\n",
       "    </tr>\n",
       "    <tr>\n",
       "      <th>681</th>\n",
       "      <td>no</td>\n",
       "      <td>49</td>\n",
       "      <td>Pre</td>\n",
       "      <td>30</td>\n",
       "      <td>III</td>\n",
       "      <td>3</td>\n",
       "      <td>1</td>\n",
       "      <td>84</td>\n",
       "      <td>721</td>\n",
       "      <td>0</td>\n",
       "    </tr>\n",
       "    <tr>\n",
       "      <th>682</th>\n",
       "      <td>yes</td>\n",
       "      <td>53</td>\n",
       "      <td>Post</td>\n",
       "      <td>25</td>\n",
       "      <td>III</td>\n",
       "      <td>17</td>\n",
       "      <td>0</td>\n",
       "      <td>0</td>\n",
       "      <td>186</td>\n",
       "      <td>0</td>\n",
       "    </tr>\n",
       "    <tr>\n",
       "      <th>683</th>\n",
       "      <td>no</td>\n",
       "      <td>51</td>\n",
       "      <td>Pre</td>\n",
       "      <td>25</td>\n",
       "      <td>III</td>\n",
       "      <td>5</td>\n",
       "      <td>43</td>\n",
       "      <td>0</td>\n",
       "      <td>769</td>\n",
       "      <td>1</td>\n",
       "    </tr>\n",
       "    <tr>\n",
       "      <th>684</th>\n",
       "      <td>no</td>\n",
       "      <td>52</td>\n",
       "      <td>Post</td>\n",
       "      <td>23</td>\n",
       "      <td>II</td>\n",
       "      <td>3</td>\n",
       "      <td>15</td>\n",
       "      <td>34</td>\n",
       "      <td>727</td>\n",
       "      <td>1</td>\n",
       "    </tr>\n",
       "    <tr>\n",
       "      <th>685</th>\n",
       "      <td>no</td>\n",
       "      <td>55</td>\n",
       "      <td>Post</td>\n",
       "      <td>23</td>\n",
       "      <td>II</td>\n",
       "      <td>9</td>\n",
       "      <td>116</td>\n",
       "      <td>15</td>\n",
       "      <td>1701</td>\n",
       "      <td>1</td>\n",
       "    </tr>\n",
       "  </tbody>\n",
       "</table>\n",
       "<p>686 rows × 10 columns</p>\n",
       "</div>"
      ],
      "text/plain": [
       "    horTh  age menostat  tsize tgrade  pnodes  progrec  estrec  time  cens\n",
       "0      no   70     Post     21     II       3       48      66  1814     1\n",
       "1     yes   56     Post     12     II       7       61      77  2018     1\n",
       "2     yes   58     Post     35     II       9       52     271   712     1\n",
       "3     yes   59     Post     17     II       4       60      29  1807     1\n",
       "4      no   73     Post     35     II       1       26      65   772     1\n",
       "..    ...  ...      ...    ...    ...     ...      ...     ...   ...   ...\n",
       "681    no   49      Pre     30    III       3        1      84   721     0\n",
       "682   yes   53     Post     25    III      17        0       0   186     0\n",
       "683    no   51      Pre     25    III       5       43       0   769     1\n",
       "684    no   52     Post     23     II       3       15      34   727     1\n",
       "685    no   55     Post     23     II       9      116      15  1701     1\n",
       "\n",
       "[686 rows x 10 columns]"
      ]
     },
     "execution_count": 78,
     "metadata": {},
     "output_type": "execute_result"
    }
   ],
   "source": [
    "from lifelines.datasets import load_gbsg2\n",
    "df = load_gbsg2()\n",
    "df"
   ]
  },
  {
   "cell_type": "markdown",
   "metadata": {},
   "source": [
    "### Exercise 2.1: \n",
    "- What is the impact of hormonal therapy on brest cancer survival? (Visualize KM survival curves for patients with and without therapy following best practices)\n",
    "- Does hormonal therapy provide a significant impact? (guide: use log-rank test)\n"
   ]
  },
  {
   "cell_type": "markdown",
   "metadata": {},
   "source": [
    "### Exercse 2.2: \n",
    "- What is the impact of number of positive nodes on patients survival without therapy? (guide: visualize KM curves for number of equally sized bins )"
   ]
  },
  {
   "cell_type": "markdown",
   "metadata": {},
   "source": [
    "### Exercise 2.3:\n",
    "\n",
    "- What is the generic effect of tumor size grade (`tgrade`) on patient survival without therapy?\n",
    "- Does the tumor size grade correlate significantly with patient survival? (log-rank test)"
   ]
  },
  {
   "cell_type": "markdown",
   "metadata": {},
   "source": [
    "# Summary & Takeaways\n",
    "\n",
    "* If there are no censored observations and all subjects die KM-curve reaches zero, otherwise to the fraction of subjects that survived. \n",
    "* If the data for any subjetake acts are censored, the bottom point on the survival curve will not equal the fraction of subjects that survived. [link for further reading](https://www.graphpad.com/support/faq/what-determines-how-low-a-kaplan-meier-survival-curve-ends-up-at-late-time-points/#:~:text=If%20there%20are%20no%20censored,the%20percent%20survival%20is%20zero.)\n",
    "\n",
    "* If the survival curve goes all the way down to zero, that does not mean that every subject in the study died and some could be probably censored. "
   ]
  },
  {
   "cell_type": "markdown",
   "metadata": {},
   "source": []
  }
 ],
 "metadata": {
  "kernelspec": {
   "display_name": "Python 3",
   "language": "python",
   "name": "python3"
  },
  "language_info": {
   "codemirror_mode": {
    "name": "ipython",
    "version": 3
   },
   "file_extension": ".py",
   "mimetype": "text/x-python",
   "name": "python",
   "nbconvert_exporter": "python",
   "pygments_lexer": "ipython3",
   "version": "3.11.11"
  }
 },
 "nbformat": 4,
 "nbformat_minor": 2
}
