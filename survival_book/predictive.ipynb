{
 "cells": [
  {
   "cell_type": "markdown",
   "metadata": {},
   "source": [
    "# Predictive Survival Analysis\n",
    "\n",
    "This type of analytics answer the question \"what will happened?\""
   ]
  },
  {
   "cell_type": "markdown",
   "metadata": {},
   "source": [
    "# Survival Regression\n",
    "\n",
    "\n",
    "Whenever we have additional variables next to duration & event, we can use survival regression. "
   ]
  },
  {
   "cell_type": "markdown",
   "metadata": {},
   "source": [
    "## Taxonomy of Predictive Methods (Statistical) \n",
    "\n",
    "\n",
    "![image](_asset/taxonomy-predictive.jpg)\n",
    "\n",
    "*Taxonomy of predictive statistical survival methods.  ML for Survival Analysis: A Survey [2018]*\n",
    "\n",
    "Among the many methods available, Cox proportional hazard (CPH) and accelerated failure models are popular with many implementation. These methods model hazard rate $h(t, x)$, as a function of time $t$ and covariate $x$"
   ]
  },
  {
   "cell_type": "markdown",
   "metadata": {},
   "source": [
    "## Cox Proportional Hazard (CHP) Model\n",
    "\n",
    "Traditional models, e.g., line linear regression, can not be used due to censoring. CPH model is based on the idea that log of the hazard is a linear function of covariates\n",
    "$$\n",
    "\\log \\left [ \\frac{h(t, x)}{h_0(t)} \\right ] = \\beta ^{\\top} x  \\, \\Longrightarrow \\,  h(t,x) = h_0(t) \\, e^{\\beta ^{\\top} x}  \n",
    "$$\n",
    "where $x$ and $\\beta$ are variable and regression coefficient vectors, respectively, and $h_0(t)$ is a base-line hazard function (semi-parametric & non-negative). \n",
    "\n",
    "Attention: The only time-varying component in CPH model is the base-line hazard $h_0(t)$, where individual covariates would only scale this function with the time-invariant factor $e^{\\beta ^{\\top} x}$ "
   ]
  },
  {
   "attachments": {},
   "cell_type": "markdown",
   "metadata": {},
   "source": [
    "### Proportional Hazard Assumption\n",
    "\n",
    "The Proportional Hazards assumption means that the hazard ratio of two sample is constant over time (time-invariant), \n",
    "\n",
    "$$\n",
    " \\frac{h(t, x_1)}{h(t, x_2)} = \\frac{h_0(t) \\, e^{\\beta ^{\\top} x_1}}{h_0(t) \\, e^{\\beta ^{\\top} x_2} } = e^{\\beta ^{\\top} (x_1 - x_2)} \n",
    "$$\n",
    "\n",
    "In below figure, we see the survival function given different values of the covariate $x$ \n",
    "\n",
    "- All the survival curves are a scaling of the base-line hazard\n",
    "- Given PH assumption, any two arbitrary survival curve has a time-invariant hazard rate \n",
    "\n",
    "![image](_asset/proportional-hazard-assumption.jpg)\n",
    "\n",
    "*Survival function vs time, given different covariates. Courtesy of ifelines.readthedocs.io*\n",
    "\n",
    "\n",
    "\n",
    "- Crossing of the survival/hazard curves for two or more categories of a predictor of interest, signal that the PH assumption is not met. However, it is possible that the functions do not cross and the PH assumption is not met. Thus, other approaches are needed to check PH assumption than curves crossing in a graph."
   ]
  },
  {
   "cell_type": "markdown",
   "metadata": {},
   "source": [
    "### Fitting CPH"
   ]
  },
  {
   "cell_type": "code",
   "execution_count": 6,
   "metadata": {},
   "outputs": [
    {
     "data": {
      "text/html": [
       "<div>\n",
       "<style scoped>\n",
       "    .dataframe tbody tr th:only-of-type {\n",
       "        vertical-align: middle;\n",
       "    }\n",
       "\n",
       "    .dataframe tbody tr th {\n",
       "        vertical-align: top;\n",
       "    }\n",
       "\n",
       "    .dataframe thead th {\n",
       "        text-align: right;\n",
       "    }\n",
       "</style>\n",
       "<table border=\"1\" class=\"dataframe\">\n",
       "  <tbody>\n",
       "    <tr>\n",
       "      <th>model</th>\n",
       "      <td>lifelines.CoxPHFitter</td>\n",
       "    </tr>\n",
       "    <tr>\n",
       "      <th>duration col</th>\n",
       "      <td>'week'</td>\n",
       "    </tr>\n",
       "    <tr>\n",
       "      <th>event col</th>\n",
       "      <td>'arrest'</td>\n",
       "    </tr>\n",
       "    <tr>\n",
       "      <th>baseline estimation</th>\n",
       "      <td>breslow</td>\n",
       "    </tr>\n",
       "    <tr>\n",
       "      <th>number of observations</th>\n",
       "      <td>432</td>\n",
       "    </tr>\n",
       "    <tr>\n",
       "      <th>number of events observed</th>\n",
       "      <td>114</td>\n",
       "    </tr>\n",
       "    <tr>\n",
       "      <th>partial log-likelihood</th>\n",
       "      <td>-658.75</td>\n",
       "    </tr>\n",
       "    <tr>\n",
       "      <th>time fit was run</th>\n",
       "      <td>2025-04-10 08:48:29 UTC</td>\n",
       "    </tr>\n",
       "  </tbody>\n",
       "</table>\n",
       "</div><table border=\"1\" class=\"dataframe\">\n",
       "  <thead>\n",
       "    <tr style=\"text-align: right;\">\n",
       "      <th style=\"min-width: 12px;\"></th>\n",
       "      <th style=\"min-width: 12px;\">coef</th>\n",
       "      <th style=\"min-width: 12px;\">exp(coef)</th>\n",
       "      <th style=\"min-width: 12px;\">se(coef)</th>\n",
       "      <th style=\"min-width: 12px;\">coef lower 95%</th>\n",
       "      <th style=\"min-width: 12px;\">coef upper 95%</th>\n",
       "      <th style=\"min-width: 12px;\">exp(coef) lower 95%</th>\n",
       "      <th style=\"min-width: 12px;\">exp(coef) upper 95%</th>\n",
       "      <th style=\"min-width: 12px;\">cmp to</th>\n",
       "      <th style=\"min-width: 12px;\">z</th>\n",
       "      <th style=\"min-width: 12px;\">p</th>\n",
       "      <th style=\"min-width: 12px;\">-log2(p)</th>\n",
       "    </tr>\n",
       "  </thead>\n",
       "  <tbody>\n",
       "    <tr>\n",
       "      <th>fin</th>\n",
       "      <td>-0.38</td>\n",
       "      <td>0.68</td>\n",
       "      <td>0.19</td>\n",
       "      <td>-0.75</td>\n",
       "      <td>-0.00</td>\n",
       "      <td>0.47</td>\n",
       "      <td>1.00</td>\n",
       "      <td>0.00</td>\n",
       "      <td>-1.98</td>\n",
       "      <td>0.05</td>\n",
       "      <td>4.40</td>\n",
       "    </tr>\n",
       "    <tr>\n",
       "      <th>age</th>\n",
       "      <td>-0.06</td>\n",
       "      <td>0.94</td>\n",
       "      <td>0.02</td>\n",
       "      <td>-0.10</td>\n",
       "      <td>-0.01</td>\n",
       "      <td>0.90</td>\n",
       "      <td>0.99</td>\n",
       "      <td>0.00</td>\n",
       "      <td>-2.61</td>\n",
       "      <td>0.01</td>\n",
       "      <td>6.79</td>\n",
       "    </tr>\n",
       "    <tr>\n",
       "      <th>race</th>\n",
       "      <td>0.31</td>\n",
       "      <td>1.37</td>\n",
       "      <td>0.31</td>\n",
       "      <td>-0.29</td>\n",
       "      <td>0.92</td>\n",
       "      <td>0.75</td>\n",
       "      <td>2.50</td>\n",
       "      <td>0.00</td>\n",
       "      <td>1.02</td>\n",
       "      <td>0.31</td>\n",
       "      <td>1.70</td>\n",
       "    </tr>\n",
       "    <tr>\n",
       "      <th>wexp</th>\n",
       "      <td>-0.15</td>\n",
       "      <td>0.86</td>\n",
       "      <td>0.21</td>\n",
       "      <td>-0.57</td>\n",
       "      <td>0.27</td>\n",
       "      <td>0.57</td>\n",
       "      <td>1.30</td>\n",
       "      <td>0.00</td>\n",
       "      <td>-0.71</td>\n",
       "      <td>0.48</td>\n",
       "      <td>1.06</td>\n",
       "    </tr>\n",
       "    <tr>\n",
       "      <th>mar</th>\n",
       "      <td>-0.43</td>\n",
       "      <td>0.65</td>\n",
       "      <td>0.38</td>\n",
       "      <td>-1.18</td>\n",
       "      <td>0.31</td>\n",
       "      <td>0.31</td>\n",
       "      <td>1.37</td>\n",
       "      <td>0.00</td>\n",
       "      <td>-1.14</td>\n",
       "      <td>0.26</td>\n",
       "      <td>1.97</td>\n",
       "    </tr>\n",
       "    <tr>\n",
       "      <th>paro</th>\n",
       "      <td>-0.08</td>\n",
       "      <td>0.92</td>\n",
       "      <td>0.20</td>\n",
       "      <td>-0.47</td>\n",
       "      <td>0.30</td>\n",
       "      <td>0.63</td>\n",
       "      <td>1.35</td>\n",
       "      <td>0.00</td>\n",
       "      <td>-0.43</td>\n",
       "      <td>0.66</td>\n",
       "      <td>0.59</td>\n",
       "    </tr>\n",
       "    <tr>\n",
       "      <th>prio</th>\n",
       "      <td>0.09</td>\n",
       "      <td>1.10</td>\n",
       "      <td>0.03</td>\n",
       "      <td>0.04</td>\n",
       "      <td>0.15</td>\n",
       "      <td>1.04</td>\n",
       "      <td>1.16</td>\n",
       "      <td>0.00</td>\n",
       "      <td>3.19</td>\n",
       "      <td>&lt;0.005</td>\n",
       "      <td>9.48</td>\n",
       "    </tr>\n",
       "  </tbody>\n",
       "</table><br><div>\n",
       "<style scoped>\n",
       "    .dataframe tbody tr th:only-of-type {\n",
       "        vertical-align: middle;\n",
       "    }\n",
       "\n",
       "    .dataframe tbody tr th {\n",
       "        vertical-align: top;\n",
       "    }\n",
       "\n",
       "    .dataframe thead th {\n",
       "        text-align: right;\n",
       "    }\n",
       "</style>\n",
       "<table border=\"1\" class=\"dataframe\">\n",
       "  <tbody>\n",
       "    <tr>\n",
       "      <th>Concordance</th>\n",
       "      <td>0.64</td>\n",
       "    </tr>\n",
       "    <tr>\n",
       "      <th>Partial AIC</th>\n",
       "      <td>1331.50</td>\n",
       "    </tr>\n",
       "    <tr>\n",
       "      <th>log-likelihood ratio test</th>\n",
       "      <td>33.27 on 7 df</td>\n",
       "    </tr>\n",
       "    <tr>\n",
       "      <th>-log2(p) of ll-ratio test</th>\n",
       "      <td>15.37</td>\n",
       "    </tr>\n",
       "  </tbody>\n",
       "</table>\n",
       "</div>"
      ],
      "text/latex": [
       "\\begin{tabular}{lrrrrrrrrrrr}\n",
       " & coef & exp(coef) & se(coef) & coef lower 95% & coef upper 95% & exp(coef) lower 95% & exp(coef) upper 95% & cmp to & z & p & -log2(p) \\\\\n",
       "covariate &  &  &  &  &  &  &  &  &  &  &  \\\\\n",
       "fin & -0.38 & 0.68 & 0.19 & -0.75 & -0.00 & 0.47 & 1.00 & 0.00 & -1.98 & 0.05 & 4.40 \\\\\n",
       "age & -0.06 & 0.94 & 0.02 & -0.10 & -0.01 & 0.90 & 0.99 & 0.00 & -2.61 & 0.01 & 6.79 \\\\\n",
       "race & 0.31 & 1.37 & 0.31 & -0.29 & 0.92 & 0.75 & 2.50 & 0.00 & 1.02 & 0.31 & 1.70 \\\\\n",
       "wexp & -0.15 & 0.86 & 0.21 & -0.57 & 0.27 & 0.57 & 1.30 & 0.00 & -0.71 & 0.48 & 1.06 \\\\\n",
       "mar & -0.43 & 0.65 & 0.38 & -1.18 & 0.31 & 0.31 & 1.37 & 0.00 & -1.14 & 0.26 & 1.97 \\\\\n",
       "paro & -0.08 & 0.92 & 0.20 & -0.47 & 0.30 & 0.63 & 1.35 & 0.00 & -0.43 & 0.66 & 0.59 \\\\\n",
       "prio & 0.09 & 1.10 & 0.03 & 0.04 & 0.15 & 1.04 & 1.16 & 0.00 & 3.19 & 0.00 & 9.48 \\\\\n",
       "\\end{tabular}\n"
      ],
      "text/plain": [
       "<lifelines.CoxPHFitter: fitted with 432 total observations, 318 right-censored observations>\n",
       "             duration col = 'week'\n",
       "                event col = 'arrest'\n",
       "      baseline estimation = breslow\n",
       "   number of observations = 432\n",
       "number of events observed = 114\n",
       "   partial log-likelihood = -658.75\n",
       "         time fit was run = 2025-04-10 08:48:29 UTC\n",
       "\n",
       "---\n",
       "           coef exp(coef)  se(coef)  coef lower 95%  coef upper 95% exp(coef) lower 95% exp(coef) upper 95%\n",
       "covariate                                                                                                  \n",
       "fin       -0.38      0.68      0.19           -0.75           -0.00                0.47                1.00\n",
       "age       -0.06      0.94      0.02           -0.10           -0.01                0.90                0.99\n",
       "race       0.31      1.37      0.31           -0.29            0.92                0.75                2.50\n",
       "wexp      -0.15      0.86      0.21           -0.57            0.27                0.57                1.30\n",
       "mar       -0.43      0.65      0.38           -1.18            0.31                0.31                1.37\n",
       "paro      -0.08      0.92      0.20           -0.47            0.30                0.63                1.35\n",
       "prio       0.09      1.10      0.03            0.04            0.15                1.04                1.16\n",
       "\n",
       "           cmp to     z      p  -log2(p)\n",
       "covariate                               \n",
       "fin          0.00 -1.98   0.05      4.40\n",
       "age          0.00 -2.61   0.01      6.79\n",
       "race         0.00  1.02   0.31      1.70\n",
       "wexp         0.00 -0.71   0.48      1.06\n",
       "mar          0.00 -1.14   0.26      1.97\n",
       "paro         0.00 -0.43   0.66      0.59\n",
       "prio         0.00  3.19 <0.005      9.48\n",
       "---\n",
       "Concordance = 0.64\n",
       "Partial AIC = 1331.50\n",
       "log-likelihood ratio test = 33.27 on 7 df\n",
       "-log2(p) of ll-ratio test = 15.37"
      ]
     },
     "metadata": {},
     "output_type": "display_data"
    }
   ],
   "source": [
    "from lifelines import CoxPHFitter\n",
    "from lifelines.datasets import load_rossi\n",
    "\n",
    "df = load_rossi()\n",
    "\n",
    "cph = CoxPHFitter()\n",
    "cph.fit(df, duration_col='week', event_col='arrest')\n",
    "\n",
    "cph.print_summary()  "
   ]
  },
  {
   "attachments": {},
   "cell_type": "markdown",
   "metadata": {},
   "source": [
    "### Interpretation\n",
    "\n",
    "- partial log-likelihood is the cost function\n",
    "\n",
    "- breslow estimator is used to estimate $\\hat H_0$. Then the baseline survival function can be calculated as $S_0(t) = e^{-H_0(t)}$\n",
    "\n",
    "- Concordance will follow \n",
    "\n",
    "- \n",
    "\n",
    "Let's consider `fin` variable (whether subject provided with financial aid after release), a one unit increase in `fin` means the base-line hazard will decrease by $e^{-0.37} = 0.69$, why?\n",
    "\n",
    "$$\n",
    " \\frac{h(t | fin = 1)}{h(t | fin= 0)} = e^{\\beta_{fin} (1- 0)} = e^{\\beta_{fin}} = e^{-0.37} \n",
    "$$\n",
    "\n",
    "Since the hazard ratio (vs base-line) is $0.69$ (< 1), we can argue financial aid reduces the risk of subjects getting re-arrested by 31%.\n",
    "\n",
    "Along the same line of reasoning, whether the subject had prior arrest or not, i.e., `prio`, increase the risk of subjects getting re-arrested by 9%, with hazard ratio of $e^{0.09} = 1.09$\n"
   ]
  },
  {
   "cell_type": "code",
   "execution_count": 9,
   "metadata": {},
   "outputs": [
    {
     "ename": "ModuleNotFoundError",
     "evalue": "No module named 'seaborn'",
     "output_type": "error",
     "traceback": [
      "\u001b[1;31m---------------------------------------------------------------------------\u001b[0m",
      "\u001b[1;31mModuleNotFoundError\u001b[0m                       Traceback (most recent call last)",
      "Cell \u001b[1;32mIn[9], line 2\u001b[0m\n\u001b[0;32m      1\u001b[0m \u001b[39mimport\u001b[39;00m \u001b[39mmatplotlib\u001b[39;00m\u001b[39m.\u001b[39;00m\u001b[39mpyplot\u001b[39;00m \u001b[39mas\u001b[39;00m \u001b[39mplt\u001b[39;00m\n\u001b[1;32m----> 2\u001b[0m \u001b[39mimport\u001b[39;00m \u001b[39mseaborn\u001b[39;00m \u001b[39mas\u001b[39;00m \u001b[39msns\u001b[39;00m\n\u001b[0;32m      3\u001b[0m fig, ax \u001b[39m=\u001b[39m plt\u001b[39m.\u001b[39msubplots(\u001b[39m2\u001b[39m, \u001b[39m3\u001b[39m, figsize\u001b[39m=\u001b[39m(\u001b[39m12\u001b[39m, \u001b[39m8\u001b[39m))\n\u001b[0;32m      4\u001b[0m cols \u001b[39m=\u001b[39m df\u001b[39m.\u001b[39mcolumns\u001b[39m.\u001b[39mdrop([\u001b[39m'\u001b[39m\u001b[39mfin\u001b[39m\u001b[39m'\u001b[39m,\u001b[39m'\u001b[39m\u001b[39mweek\u001b[39m\u001b[39m'\u001b[39m, \u001b[39m'\u001b[39m\u001b[39marrest\u001b[39m\u001b[39m'\u001b[39m])\n",
      "\u001b[1;31mModuleNotFoundError\u001b[0m: No module named 'seaborn'"
     ]
    }
   ],
   "source": [
    "import matplotlib.pyplot as plt\n",
    "import seaborn as sns\n",
    "fig, ax = plt.subplots(2, 3, figsize=(12, 8))\n",
    "cols = df.columns.drop(['fin','week', 'arrest'])\n",
    "axes = ax.ravel() \n",
    "for id, col in enumerate(cols):\n",
    "    _ax = axes[id] \n",
    "    bins = [17, 22, 27, 32, 37, 44] if col == 'age' else 'auto'\n",
    "    sns.histplot(data=df, x=col, hue='fin', alpha=0.5, bins=bins, ax=_ax)\n",
    "    _ax.set_xlabel(col)"
   ]
  },
  {
   "cell_type": "markdown",
   "metadata": {},
   "source": [
    "## Model Evaluataion \n",
    "\n",
    "If censoring is present, it’s not appropriate to use a loss function like mean-squared-error or mean-absolute-loss. This is because the difference between a censored value and the predicted value could be due to poor prediction or due to censoring. Below we introduce alternative ways to measure prediction performance."
   ]
  },
  {
   "cell_type": "markdown",
   "metadata": {},
   "source": [
    "### Concordance Index [C-index]\n",
    "\n",
    "- Due to censoring metrics like Root Mean Square (RMS) and $R^2$ are not relevant to survival analysis. \n",
    "\n",
    "- Specialized evaluation metrics for survival are c-index, Brier score, and Mean Absolute Error (MAE),\n",
    "\n",
    "Definition of C-index: \n",
    "\n",
    "$$ C-index := \\frac{\\#  concordant \\,\\,\\, pairs}{\\# comparable \\,\\,\\,  pairs} $$\n",
    "\n",
    "- Concordant pair: the pair $(i, j)$ is concordant if $t_i > t_j$ and $\\hat t_i > \\hat t_j$ where $t$ is the observed time and $\\hat t$ is the estimated survival time\n",
    "- Comparable pairs: \n",
    "\n",
    "![imae](_asset/c-index.jpg)\n"
   ]
  },
  {
   "cell_type": "code",
   "execution_count": null,
   "metadata": {},
   "outputs": [],
   "source": []
  },
  {
   "cell_type": "markdown",
   "metadata": {},
   "source": [
    "# Prediction\n",
    "\n",
    "-  on censored subjects"
   ]
  },
  {
   "cell_type": "markdown",
   "metadata": {},
   "source": [
    "## Model Calibration"
   ]
  },
  {
   "cell_type": "code",
   "execution_count": null,
   "metadata": {},
   "outputs": [
    {
     "name": "stdout",
     "output_type": "stream",
     "text": [
      "ICI =  0.0036926057314467567\n",
      "E50 =  0.003442100352935129\n"
     ]
    },
    {
     "data": {
      "text/plain": [
       "(<Axes: title={'center': 'Smoothed calibration curve of \\npredicted vs observed probabilities of t ≤ 25 mortality'}, xlabel='Predicted probability of \\nt ≤ 25 mortality', ylabel='Observed probability of \\nt ≤ 25 mortality'>,\n",
       " np.float64(0.0036926057314467567),\n",
       " np.float64(0.003442100352935129))"
      ]
     },
     "execution_count": 33,
     "metadata": {},
     "output_type": "execute_result"
    },
    {
     "data": {
      "image/png": "[encoded data removed]",
      "text/plain": [
       "<Figure size 640x480 with 2 Axes>"
      ]
     },
     "metadata": {},
     "output_type": "display_data"
    }
   ],
   "source": [
    "from lifelines import CoxPHFitter\n",
    "from lifelines.datasets import load_rossi\n",
    "from lifelines.calibration import survival_probability_calibration\n",
    "\n",
    "regression_dataset = load_rossi()\n",
    "cph = CoxPHFitter(baseline_estimation_method=\"spline\", n_baseline_knots=3)\n",
    "cph.fit(rossi, \"week\", \"arrest\")\n",
    "\n",
    "survival_probability_calibration(cph, rossi, t0=25);"
   ]
  },
  {
   "cell_type": "markdown",
   "metadata": {},
   "source": [
    "## Predictions"
   ]
  },
  {
   "cell_type": "code",
   "execution_count": null,
   "metadata": {},
   "outputs": [],
   "source": [
    "Prediction"
   ]
  },
  {
   "cell_type": "markdown",
   "metadata": {},
   "source": [
    "# Checking Proportional Hazard Assumption Evaluation\n",
    "\n",
    "It is important to note that if the graph of the hazards cross for two or more categories of a predictor of interest, the PH assumption is not met. However, althought the hazard functions do not cross, it is possible that the PH assumption is not met. Thus, rather than checking for crossing hazards, we need to use other apporaches."
   ]
  },
  {
   "cell_type": "code",
   "execution_count": null,
   "metadata": {},
   "outputs": [],
   "source": [
    "# It seems that the proportional hazards assumption is violated as the log-log survival curves are not parallel."
   ]
  },
  {
   "cell_type": "markdown",
   "metadata": {},
   "source": [
    "## Further Reading\n",
    "parametric and non-parametric models\n",
    "\n",
    "ML Models \n",
    "- Survival Trees\n",
    "- Support Vector Machine\n",
    "- Baysian Survival Analysis\n",
    "- Deep Survival Analysis"
   ]
  },
  {
   "cell_type": "markdown",
   "metadata": {},
   "source": []
  }
 ],
 "metadata": {
  "kernelspec": {
   "display_name": "Python 3",
   "language": "python",
   "name": "python3"
  },
  "language_info": {
   "codemirror_mode": {
    "name": "ipython",
    "version": 3
   },
   "file_extension": ".py",
   "mimetype": "text/x-python",
   "name": "python",
   "nbconvert_exporter": "python",
   "pygments_lexer": "ipython3",
   "version": "3.10.11"
  },
  "vscode": {
   "interpreter": {
    "hash": "26de051ba29f2982a8de78e945f0abaf191376122a1563185a90213a26c5da77"
   }
  }
 },
 "nbformat": 4,
 "nbformat_minor": 2
}
