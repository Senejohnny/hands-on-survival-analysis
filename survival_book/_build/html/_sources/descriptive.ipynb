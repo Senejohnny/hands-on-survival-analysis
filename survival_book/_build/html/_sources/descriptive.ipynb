{
 "cells": [
  {
   "cell_type": "markdown",
   "metadata": {},
   "source": [
    "# Descriptive Survival Analysis"
   ]
  },
  {
   "cell_type": "markdown",
   "metadata": {},
   "source": [
    "# Packages"
   ]
  },
  {
   "cell_type": "code",
   "execution_count": null,
   "metadata": {},
   "outputs": [],
   "source": [
    "# ! pip3 install pandas\n",
    "# ! pip3 install lifelines\n",
    "# ! pip install matplotlib"
   ]
  },
  {
   "cell_type": "code",
   "execution_count": 3,
   "metadata": {},
   "outputs": [],
   "source": [
    "import pandas as pd\n",
    "from lifelines import KaplanMeierFitter\n",
    "from matplotlib import pyplot as plt"
   ]
  },
  {
   "cell_type": "markdown",
   "metadata": {},
   "source": [
    "# Introduction\n",
    "\n",
    "In suvival analysis the outcome is made of two variables, time and event. Sometimes such problems are broken down to sub-optimal problems such as regression on time or classification on event. \n",
    "\n",
    "Since the outcome has two variables, plotting the outcome is either via survival or hazard functions. \n",
    "\n",
    "\n",
    "- In descriptive analytics, we focus on visualising the outcome y(time, event) \n",
    "- In predictive analytics, we predict the outcome y(time, evenet) given the features x. \n",
    "- In prescriptive analytics, what shoudl we do "
   ]
  },
  {
   "cell_type": "markdown",
   "metadata": {},
   "source": [
    "# Survival function\n",
    "\n",
    "The survival function $S(t)$, is defined as the probability that an event-of-interest occurs after a certain time $t$. \n",
    "$$\n",
    "S(t) = P(T > t)\n",
    "$$\n",
    "where $T$ is the time at which the event occurs. \n",
    "\n",
    "**No Censoring**: If there are no censored observations, the most natural estimator for survival is the empirical estimator\n",
    "\n",
    "$$\n",
    "\\hat S(t) = \\frac{1}{n} \\sum_{i=0}^n I(t_i > t)\n",
    "$$\n",
    "\n",
    "which is the proportion of the events observed after time $t$. \n",
    "\n",
    "**Censoring**: In presence of censoring, Kaplan and Meier (1958) proposed a nonparametric estimate of the survival function, which is the generalization of the empirical estimator for censored data\n",
    "\n",
    "\n",
    "$$\n",
    "\\hat S(t) = \\prod_{t_i<t} \\hat S_i(t) \n",
    "$$\n",
    "$$\n",
    "\\hat S_i(t) = 1 - \\frac{d_i}{n_i} \n",
    "$$\n",
    "\n",
    "Where $t_i$ is the observed event times, $d_i$ and $n_i$ are the number of events and subjects at risk at time $t_i$.\n",
    "\n",
    "\n"
   ]
  },
  {
   "cell_type": "markdown",
   "metadata": {},
   "source": [
    "# Examples"
   ]
  },
  {
   "cell_type": "markdown",
   "metadata": {},
   "source": [
    "## Example 1: KM curve with no censoring \n",
    "Consider the life of 10 light bulbs until they burn out"
   ]
  },
  {
   "cell_type": "code",
   "execution_count": 16,
   "metadata": {},
   "outputs": [
    {
     "data": {
      "text/html": [
       "<div>\n",
       "<style scoped>\n",
       "    .dataframe tbody tr th:only-of-type {\n",
       "        vertical-align: middle;\n",
       "    }\n",
       "\n",
       "    .dataframe tbody tr th {\n",
       "        vertical-align: top;\n",
       "    }\n",
       "\n",
       "    .dataframe thead th {\n",
       "        text-align: right;\n",
       "    }\n",
       "</style>\n",
       "<table border=\"1\" class=\"dataframe\">\n",
       "  <thead>\n",
       "    <tr style=\"text-align: right;\">\n",
       "      <th></th>\n",
       "      <th>T</th>\n",
       "      <th>E</th>\n",
       "    </tr>\n",
       "  </thead>\n",
       "  <tbody>\n",
       "    <tr>\n",
       "      <th>0</th>\n",
       "      <td>3</td>\n",
       "      <td>1</td>\n",
       "    </tr>\n",
       "    <tr>\n",
       "      <th>1</th>\n",
       "      <td>4</td>\n",
       "      <td>1</td>\n",
       "    </tr>\n",
       "    <tr>\n",
       "      <th>2</th>\n",
       "      <td>4</td>\n",
       "      <td>1</td>\n",
       "    </tr>\n",
       "    <tr>\n",
       "      <th>3</th>\n",
       "      <td>6</td>\n",
       "      <td>1</td>\n",
       "    </tr>\n",
       "    <tr>\n",
       "      <th>4</th>\n",
       "      <td>7</td>\n",
       "      <td>1</td>\n",
       "    </tr>\n",
       "    <tr>\n",
       "      <th>5</th>\n",
       "      <td>7</td>\n",
       "      <td>1</td>\n",
       "    </tr>\n",
       "    <tr>\n",
       "      <th>6</th>\n",
       "      <td>8</td>\n",
       "      <td>1</td>\n",
       "    </tr>\n",
       "    <tr>\n",
       "      <th>7</th>\n",
       "      <td>10</td>\n",
       "      <td>1</td>\n",
       "    </tr>\n",
       "    <tr>\n",
       "      <th>8</th>\n",
       "      <td>11</td>\n",
       "      <td>1</td>\n",
       "    </tr>\n",
       "    <tr>\n",
       "      <th>9</th>\n",
       "      <td>13</td>\n",
       "      <td>1</td>\n",
       "    </tr>\n",
       "  </tbody>\n",
       "</table>\n",
       "</div>"
      ],
      "text/plain": [
       "    T  E\n",
       "0   3  1\n",
       "1   4  1\n",
       "2   4  1\n",
       "3   6  1\n",
       "4   7  1\n",
       "5   7  1\n",
       "6   8  1\n",
       "7  10  1\n",
       "8  11  1\n",
       "9  13  1"
      ]
     },
     "execution_count": 16,
     "metadata": {},
     "output_type": "execute_result"
    }
   ],
   "source": [
    "data = {\n",
    "    'T': [3, 4, 4, 6, 7, 7, 8, 10, 11, 13],\n",
    "    'E': [1, 1, 1, 1, 1, 1, 1, 1, 1, 1 ], # due to no censoring, all events are 1 \n",
    "}\n",
    "\n",
    "df = pd.DataFrame(data)\n",
    "df"
   ]
  },
  {
   "cell_type": "code",
   "execution_count": 19,
   "metadata": {},
   "outputs": [
    {
     "data": {
      "text/plain": [
       "Text(0, 0.5, 'Survival Probability')"
      ]
     },
     "execution_count": 19,
     "metadata": {},
     "output_type": "execute_result"
    },
    {
     "data": {
      "image/png": "[encoded data removed]",
      "text/plain": [
       "<Figure size 640x480 with 1 Axes>"
      ]
     },
     "metadata": {},
     "output_type": "display_data"
    }
   ],
   "source": [
    "# Create KaplanMeierFitter object\n",
    "kmf = KaplanMeierFitter()\n",
    "\n",
    "# Fit the model\n",
    "kmf.fit(durations=df['T'], event_observed=df['E'])\n",
    "\n",
    "# Plot the curve \n",
    "kmf.plot(ci_show=False)\n",
    "plt.title('Light Bulb Survival plot')\n",
    "plt.xlabel('Time (year)')\n",
    "plt.ylabel('Survival Probability')"
   ]
  },
  {
   "cell_type": "markdown",
   "metadata": {},
   "source": [
    "Interpretation: The probability that a light bulb survives longer than 8 year is 30%\n",
    "\n",
    "Given 10 samples and no censoring, at every event occurence the curve drops 1/10. The underlying survival_function_ method confirms this.   \n"
   ]
  },
  {
   "cell_type": "code",
   "execution_count": 11,
   "metadata": {},
   "outputs": [
    {
     "data": {
      "text/html": [
       "<div>\n",
       "<style scoped>\n",
       "    .dataframe tbody tr th:only-of-type {\n",
       "        vertical-align: middle;\n",
       "    }\n",
       "\n",
       "    .dataframe tbody tr th {\n",
       "        vertical-align: top;\n",
       "    }\n",
       "\n",
       "    .dataframe thead th {\n",
       "        text-align: right;\n",
       "    }\n",
       "</style>\n",
       "<table border=\"1\" class=\"dataframe\">\n",
       "  <thead>\n",
       "    <tr style=\"text-align: right;\">\n",
       "      <th></th>\n",
       "      <th>KM_estimate</th>\n",
       "    </tr>\n",
       "    <tr>\n",
       "      <th>timeline</th>\n",
       "      <th></th>\n",
       "    </tr>\n",
       "  </thead>\n",
       "  <tbody>\n",
       "    <tr>\n",
       "      <th>0.0</th>\n",
       "      <td>1.0</td>\n",
       "    </tr>\n",
       "    <tr>\n",
       "      <th>3.0</th>\n",
       "      <td>0.9</td>\n",
       "    </tr>\n",
       "    <tr>\n",
       "      <th>4.0</th>\n",
       "      <td>0.7</td>\n",
       "    </tr>\n",
       "    <tr>\n",
       "      <th>6.0</th>\n",
       "      <td>0.6</td>\n",
       "    </tr>\n",
       "    <tr>\n",
       "      <th>7.0</th>\n",
       "      <td>0.4</td>\n",
       "    </tr>\n",
       "    <tr>\n",
       "      <th>8.0</th>\n",
       "      <td>0.3</td>\n",
       "    </tr>\n",
       "    <tr>\n",
       "      <th>10.0</th>\n",
       "      <td>0.2</td>\n",
       "    </tr>\n",
       "    <tr>\n",
       "      <th>11.0</th>\n",
       "      <td>0.1</td>\n",
       "    </tr>\n",
       "    <tr>\n",
       "      <th>13.0</th>\n",
       "      <td>0.0</td>\n",
       "    </tr>\n",
       "  </tbody>\n",
       "</table>\n",
       "</div>"
      ],
      "text/plain": [
       "          KM_estimate\n",
       "timeline             \n",
       "0.0               1.0\n",
       "3.0               0.9\n",
       "4.0               0.7\n",
       "6.0               0.6\n",
       "7.0               0.4\n",
       "8.0               0.3\n",
       "10.0              0.2\n",
       "11.0              0.1\n",
       "13.0              0.0"
      ]
     },
     "execution_count": 11,
     "metadata": {},
     "output_type": "execute_result"
    }
   ],
   "source": [
    "kmf.survival_function_"
   ]
  },
  {
   "cell_type": "markdown",
   "metadata": {},
   "source": [
    "## Example 2: KM curve with censoring \n",
    "\n",
    "Let's consider the same example with 10 light bulbs, where some of them are not yet burned out or we have lost track of thier status(right-censoring)"
   ]
  },
  {
   "cell_type": "code",
   "execution_count": 31,
   "metadata": {},
   "outputs": [],
   "source": [
    "data = {\n",
    "    'T': [3, 4, 4, 6, 7, 7, 8, 10, 11, 13],\n",
    "    'E': [1, 1, 0, 1, 1, 0, 1, 1, 1, 0],\n",
    "}\n",
    "\n",
    "df = pd.DataFrame(data)"
   ]
  },
  {
   "cell_type": "code",
   "execution_count": 32,
   "metadata": {},
   "outputs": [
    {
     "data": {
      "text/plain": [
       "Text(0, 0.5, 'Survival Probability')"
      ]
     },
     "execution_count": 32,
     "metadata": {},
     "output_type": "execute_result"
    },
    {
     "data": {
      "image/png": "[encoded data removed]",
      "text/plain": [
       "<Figure size 640x480 with 1 Axes>"
      ]
     },
     "metadata": {},
     "output_type": "display_data"
    }
   ],
   "source": [
    "kmf = KaplanMeierFitter()\n",
    "kmf.fit(durations=df['T'], event_observed=df['E'])\n",
    "\n",
    "kmf.plot(ci_show=False)\n",
    "plt.title('Light Bulb Survival plot')\n",
    "plt.xlabel('Time (year)')\n",
    "plt.ylabel('Survival Probability')"
   ]
  },
  {
   "cell_type": "code",
   "execution_count": 33,
   "metadata": {},
   "outputs": [
    {
     "data": {
      "text/html": [
       "<div>\n",
       "<style scoped>\n",
       "    .dataframe tbody tr th:only-of-type {\n",
       "        vertical-align: middle;\n",
       "    }\n",
       "\n",
       "    .dataframe tbody tr th {\n",
       "        vertical-align: top;\n",
       "    }\n",
       "\n",
       "    .dataframe thead th {\n",
       "        text-align: right;\n",
       "    }\n",
       "</style>\n",
       "<table border=\"1\" class=\"dataframe\">\n",
       "  <thead>\n",
       "    <tr style=\"text-align: right;\">\n",
       "      <th></th>\n",
       "      <th>timeline</th>\n",
       "      <th>KM_estimate</th>\n",
       "    </tr>\n",
       "  </thead>\n",
       "  <tbody>\n",
       "    <tr>\n",
       "      <th>0</th>\n",
       "      <td>0.0</td>\n",
       "      <td>1.000000</td>\n",
       "    </tr>\n",
       "    <tr>\n",
       "      <th>1</th>\n",
       "      <td>3.0</td>\n",
       "      <td>0.900000</td>\n",
       "    </tr>\n",
       "    <tr>\n",
       "      <th>2</th>\n",
       "      <td>4.0</td>\n",
       "      <td>0.800000</td>\n",
       "    </tr>\n",
       "    <tr>\n",
       "      <th>3</th>\n",
       "      <td>6.0</td>\n",
       "      <td>0.685714</td>\n",
       "    </tr>\n",
       "    <tr>\n",
       "      <th>4</th>\n",
       "      <td>7.0</td>\n",
       "      <td>0.571429</td>\n",
       "    </tr>\n",
       "    <tr>\n",
       "      <th>5</th>\n",
       "      <td>8.0</td>\n",
       "      <td>0.428571</td>\n",
       "    </tr>\n",
       "    <tr>\n",
       "      <th>6</th>\n",
       "      <td>10.0</td>\n",
       "      <td>0.285714</td>\n",
       "    </tr>\n",
       "    <tr>\n",
       "      <th>7</th>\n",
       "      <td>11.0</td>\n",
       "      <td>0.142857</td>\n",
       "    </tr>\n",
       "    <tr>\n",
       "      <th>8</th>\n",
       "      <td>13.0</td>\n",
       "      <td>0.142857</td>\n",
       "    </tr>\n",
       "  </tbody>\n",
       "</table>\n",
       "</div>"
      ],
      "text/plain": [
       "   timeline  KM_estimate\n",
       "0       0.0     1.000000\n",
       "1       3.0     0.900000\n",
       "2       4.0     0.800000\n",
       "3       6.0     0.685714\n",
       "4       7.0     0.571429\n",
       "5       8.0     0.428571\n",
       "6      10.0     0.285714\n",
       "7      11.0     0.142857\n",
       "8      13.0     0.142857"
      ]
     },
     "execution_count": 33,
     "metadata": {},
     "output_type": "execute_result"
    }
   ],
   "source": [
    "kmf.survival_function_.reset_index()"
   ]
  },
  {
   "cell_type": "markdown",
   "metadata": {},
   "source": [
    "Let's see how the KM survival function S(t) is constructed from the KM curve table\n",
    "t | d| c|n |S_i(t)| S(t) \n",
    "--|--|--|--|--|--|\n",
    "0 | 0| 0|10|10/10 =1 | 1\n",
    "3 | 1| 0|10|1-1/10 =9/10| 0.9\n",
    "4 | 1| 1| 9|1-1/9 = 8/9 | 0.8\n",
    "6 | 1| 0| 7|1-1/7 = 6/7 | 0.6857\n",
    "7 | 1| 1| 6|1-1/6 = 5/6 | 0.5714\n",
    "8 | 1| 0| 4|1-1/4 = 3/4 | 0.4285\n",
    "10| 1| 0| 3|1-1/3 = 2/3 | 0.2857\n",
    "11| 1| 0| 2|1-1/2 = 1/2 | 0.1428\n",
    "13| 0| 1| 1|1-0/1 = 1   | 0.1428"
   ]
  },
  {
   "cell_type": "markdown",
   "metadata": {},
   "source": [
    "## Example 3: Comparing Survival Curves:\n"
   ]
  },
  {
   "cell_type": "markdown",
   "metadata": {},
   "source": [
    "### Data: Criminals return to prison\n",
    "The [study data](https://gwern.net/doc/sociology/1980-rossi-moneyworkandcrime.pdf) involved 432 Maryland convicts released in the 1970s, tracked for one year post-release. The experiment was designed to test the impact of financial assistance on post-release outcomes, with subjects randomly divided into two equal groups"
   ]
  },
  {
   "cell_type": "code",
   "execution_count": null,
   "metadata": {},
   "outputs": [
    {
     "data": {
      "image/png": "[encoded data removed]",
      "text/plain": [
       "<Figure size 640x480 with 1 Axes>"
      ]
     },
     "metadata": {},
     "output_type": "display_data"
    }
   ],
   "source": [
    "from lifelines.datasets import load_rossi\n",
    "import numpy as np\n",
    "\n",
    "# loading data \n",
    "data = load_rossi()\n",
    "treat = data.query(\"fin == 1\") \n",
    "ctrl = data.query(\"fin == 0\")\n",
    "\n",
    "# init & Fitting KM curves \n",
    "ax = plt.subplot(111)\n",
    "t = np.linspace(0, 55, 55)\n",
    "kmf1 = KaplanMeierFitter()\n",
    "kmf2 = KaplanMeierFitter()\n",
    "kmf1.fit(treat['week'], treat['arrest'], timeline=t, label=\"fin. aid Yes\")\n",
    "kmf2.fit(ctrl['week'], ctrl['arrest'], timeline=t, label=\"fin. aid No\")\n",
    "\n",
    "# plotting the KM curves\n",
    "kmf1.plot(ax=ax), kmf2.plot(ax=ax)\n",
    "ax.set_title(\"Criminal Recidivism in 52-week After Release\");\n",
    "ax.set_ylabel(\"P(surviving from getting rearrested)\");\n",
    "# ax.set_ylabel(\"Prob. of getting rearrested\");\n",
    "ax.set_xlabel(\"time (week)\");"
   ]
  },
  {
   "cell_type": "markdown",
   "metadata": {},
   "source": [
    "### Statistical Significance \n",
    "\n",
    "Are these two curves statistically equivalent? To answer this question, we can use the log-rank test (Mantel 1966; Peto and Peto 1972). This is the most well-known and widely used method to test the null hypothesis of no difference in survival between two or more independent groups."
   ]
  },
  {
   "cell_type": "code",
   "execution_count": 26,
   "metadata": {},
   "outputs": [
    {
     "name": "stdout",
     "output_type": "stream",
     "text": [
      "p-value: 0.0501\n"
     ]
    }
   ],
   "source": [
    "\n",
    "from lifelines.statistics import logrank_test\n",
    "log_rank_test_result = logrank_test(\n",
    "    treat['week'], \n",
    "    ctrl['week'], \n",
    "    event_observed_A=treat['arrest'], \n",
    "    event_observed_B=ctrl['arrest'],\n",
    ")\n",
    "print(f'p-value: {log_rank_test_result.p_value:.4f}')\n"
   ]
  },
  {
   "cell_type": "markdown",
   "metadata": {},
   "source": [
    ":::{admonition} Remarks: \n",
    "\n",
    "* While `logrank_test` function is used for two KM curves, `multivariate_logrank_test` can be used for more than 2 KM curves. \n",
    "* These methods provide weightings for hypothesis testing early vs late difference\n",
    ":::"
   ]
  },
  {
   "cell_type": "markdown",
   "metadata": {},
   "source": [
    "## Example 4: Identifying Data Drift"
   ]
  },
  {
   "cell_type": "code",
   "execution_count": 79,
   "metadata": {},
   "outputs": [
    {
     "ename": "ValueError",
     "evalue": "operands could not be broadcast together with shapes (450,) (1500,) ",
     "output_type": "error",
     "traceback": [
      "\u001b[31m---------------------------------------------------------------------------\u001b[39m",
      "\u001b[31mValueError\u001b[39m                                Traceback (most recent call last)",
      "\u001b[36mCell\u001b[39m\u001b[36m \u001b[39m\u001b[32mIn[79]\u001b[39m\u001b[32m, line 31\u001b[39m\n\u001b[32m     29\u001b[39m base_churn_time = np.random.exponential(scale=\u001b[32m70\u001b[39m, size=\u001b[38;5;28mint\u001b[39m(n_clients * \u001b[32m0.3\u001b[39m) )\n\u001b[32m     30\u001b[39m years_active = (datetime(\u001b[32m2025\u001b[39m, \u001b[32m3\u001b[39m, \u001b[32m16\u001b[39m) - start_dates).astype(\u001b[33m'\u001b[39m\u001b[33mtimedelta64[D]\u001b[39m\u001b[33m'\u001b[39m).astype(\u001b[38;5;28mint\u001b[39m)\n\u001b[32m---> \u001b[39m\u001b[32m31\u001b[39m time_to_churn = \u001b[43mbase_churn_time\u001b[49m\u001b[43m \u001b[49m\u001b[43m*\u001b[49m\u001b[43m \u001b[49m\u001b[43m(\u001b[49m\u001b[32;43m1\u001b[39;49m\u001b[43m \u001b[49m\u001b[43m+\u001b[49m\u001b[43m \u001b[49m\u001b[43myears_active\u001b[49m\u001b[43m \u001b[49m\u001b[43m*\u001b[49m\u001b[43m \u001b[49m\u001b[32;43m0.001\u001b[39;49m\u001b[43m)\u001b[49m\n\u001b[32m     33\u001b[39m \u001b[38;5;66;03m# Generate censoring indicator (1 = churned, 0 = still active)\u001b[39;00m\n\u001b[32m     34\u001b[39m \u001b[38;5;66;03m# Older clients are more likely to be censored (survived longer)\u001b[39;00m\n\u001b[32m     35\u001b[39m censoring_prob = \u001b[32m0.4\u001b[39m - (years_active * \u001b[32m0.0002\u001b[39m)\n",
      "\u001b[31mValueError\u001b[39m: operands could not be broadcast together with shapes (450,) (1500,) "
     ]
    }
   ],
   "source": [
    "import numpy as np\n",
    "import pandas as pd\n",
    "from lifelines import KaplanMeierFitter\n",
    "import matplotlib.pyplot as plt\n",
    "from datetime import datetime, timedelta\n",
    "\n",
    "# Set random seed for reproducibility\n",
    "np.random.seed(42)\n",
    "\n",
    "# Generate synthetic data\n",
    "n_clients = 1500  # 500 clients per start year\n",
    "\n",
    "# Define start years and generate dates\n",
    "start_years = [2020, 2021, 2022]\n",
    "clients_per_year = n_clients // len(start_years)\n",
    "\n",
    "start_dates = []\n",
    "for year in start_years:\n",
    "    # Generate random dates within each year\n",
    "    dates = [datetime(year, 1, 1) + timedelta(days=np.random.randint(0, 365)) \n",
    "            for _ in range(clients_per_year)]\n",
    "    start_dates.extend(dates)\n",
    "\n",
    "# Convert to numpy array\n",
    "start_dates = np.array(start_dates)\n",
    "\n",
    "# Generate time to churn (in days)\n",
    "# More recent clients tend to churn faster\n",
    "base_churn_time = np.random.exponential(scale=70, size=int(n_clients * 0.3) )\n",
    "years_active = (datetime(2025, 3, 16) - start_dates).astype('timedelta64[D]').astype(int)\n",
    "time_to_churn = base_churn_time * (1 + years_active * 0.001)\n",
    "\n",
    "# Generate censoring indicator (1 = churned, 0 = still active)\n",
    "# Older clients are more likely to be censored (survived longer)\n",
    "censoring_prob = 0.4 - (years_active * 0.0002)\n",
    "censored = np.random.binomial(n=1, p=censoring_prob, size=n_clients)\n",
    "\n",
    "# Create DataFrame\n",
    "df = pd.DataFrame({\n",
    "    'start_date': start_dates,\n",
    "    'start_year': [d.year for d in start_dates],\n",
    "    'time_to_churn': time_to_churn,\n",
    "    'churned': censored,\n",
    "    'years_active': years_active / 365\n",
    "})"
   ]
  },
  {
   "cell_type": "code",
   "execution_count": 80,
   "metadata": {},
   "outputs": [
    {
     "data": {
      "text/plain": [
       "array([[<Axes: title={'center': '0'}>]], dtype=object)"
      ]
     },
     "execution_count": 80,
     "metadata": {},
     "output_type": "execute_result"
    },
    {
     "data": {
      "image/png": "[encoded data removed]",
      "text/plain": [
       "<Figure size 640x480 with 1 Axes>"
      ]
     },
     "metadata": {},
     "output_type": "display_data"
    }
   ],
   "source": [
    "pd.DataFrame(base_churn_time).hist()"
   ]
  },
  {
   "cell_type": "code",
   "execution_count": 69,
   "metadata": {},
   "outputs": [
    {
     "data": {
      "text/html": [
       "<div>\n",
       "<style scoped>\n",
       "    .dataframe tbody tr th:only-of-type {\n",
       "        vertical-align: middle;\n",
       "    }\n",
       "\n",
       "    .dataframe tbody tr th {\n",
       "        vertical-align: top;\n",
       "    }\n",
       "\n",
       "    .dataframe thead th {\n",
       "        text-align: right;\n",
       "    }\n",
       "</style>\n",
       "<table border=\"1\" class=\"dataframe\">\n",
       "  <thead>\n",
       "    <tr style=\"text-align: right;\">\n",
       "      <th></th>\n",
       "      <th>start_date</th>\n",
       "      <th>start_year</th>\n",
       "      <th>time_to_churn</th>\n",
       "      <th>churned</th>\n",
       "      <th>years_active</th>\n",
       "    </tr>\n",
       "  </thead>\n",
       "  <tbody>\n",
       "    <tr>\n",
       "      <th>0</th>\n",
       "      <td>2020-04-12</td>\n",
       "      <td>2020</td>\n",
       "      <td>67.798735</td>\n",
       "      <td>0</td>\n",
       "      <td>4.928767</td>\n",
       "    </tr>\n",
       "    <tr>\n",
       "      <th>1</th>\n",
       "      <td>2020-12-14</td>\n",
       "      <td>2020</td>\n",
       "      <td>344.267016</td>\n",
       "      <td>0</td>\n",
       "      <td>4.254795</td>\n",
       "    </tr>\n",
       "    <tr>\n",
       "      <th>2</th>\n",
       "      <td>2020-09-27</td>\n",
       "      <td>2020</td>\n",
       "      <td>9.550877</td>\n",
       "      <td>0</td>\n",
       "      <td>4.468493</td>\n",
       "    </tr>\n",
       "    <tr>\n",
       "      <th>3</th>\n",
       "      <td>2020-04-16</td>\n",
       "      <td>2020</td>\n",
       "      <td>1.331916</td>\n",
       "      <td>0</td>\n",
       "      <td>4.917808</td>\n",
       "    </tr>\n",
       "    <tr>\n",
       "      <th>4</th>\n",
       "      <td>2020-03-12</td>\n",
       "      <td>2020</td>\n",
       "      <td>7.658317</td>\n",
       "      <td>0</td>\n",
       "      <td>5.013699</td>\n",
       "    </tr>\n",
       "    <tr>\n",
       "      <th>...</th>\n",
       "      <td>...</td>\n",
       "      <td>...</td>\n",
       "      <td>...</td>\n",
       "      <td>...</td>\n",
       "      <td>...</td>\n",
       "    </tr>\n",
       "    <tr>\n",
       "      <th>1495</th>\n",
       "      <td>2022-02-03</td>\n",
       "      <td>2022</td>\n",
       "      <td>35.150306</td>\n",
       "      <td>0</td>\n",
       "      <td>3.115068</td>\n",
       "    </tr>\n",
       "    <tr>\n",
       "      <th>1496</th>\n",
       "      <td>2022-09-08</td>\n",
       "      <td>2022</td>\n",
       "      <td>111.633717</td>\n",
       "      <td>0</td>\n",
       "      <td>2.520548</td>\n",
       "    </tr>\n",
       "    <tr>\n",
       "      <th>1497</th>\n",
       "      <td>2022-09-04</td>\n",
       "      <td>2022</td>\n",
       "      <td>2.386099</td>\n",
       "      <td>0</td>\n",
       "      <td>2.531507</td>\n",
       "    </tr>\n",
       "    <tr>\n",
       "      <th>1498</th>\n",
       "      <td>2022-09-26</td>\n",
       "      <td>2022</td>\n",
       "      <td>34.757266</td>\n",
       "      <td>0</td>\n",
       "      <td>2.471233</td>\n",
       "    </tr>\n",
       "    <tr>\n",
       "      <th>1499</th>\n",
       "      <td>2022-05-21</td>\n",
       "      <td>2022</td>\n",
       "      <td>80.852563</td>\n",
       "      <td>0</td>\n",
       "      <td>2.821918</td>\n",
       "    </tr>\n",
       "  </tbody>\n",
       "</table>\n",
       "<p>1316 rows × 5 columns</p>\n",
       "</div>"
      ],
      "text/plain": [
       "     start_date  start_year  time_to_churn  churned  years_active\n",
       "0    2020-04-12        2020      67.798735        0      4.928767\n",
       "1    2020-12-14        2020     344.267016        0      4.254795\n",
       "2    2020-09-27        2020       9.550877        0      4.468493\n",
       "3    2020-04-16        2020       1.331916        0      4.917808\n",
       "4    2020-03-12        2020       7.658317        0      5.013699\n",
       "...         ...         ...            ...      ...           ...\n",
       "1495 2022-02-03        2022      35.150306        0      3.115068\n",
       "1496 2022-09-08        2022     111.633717        0      2.520548\n",
       "1497 2022-09-04        2022       2.386099        0      2.531507\n",
       "1498 2022-09-26        2022      34.757266        0      2.471233\n",
       "1499 2022-05-21        2022      80.852563        0      2.821918\n",
       "\n",
       "[1316 rows x 5 columns]"
      ]
     },
     "execution_count": 69,
     "metadata": {},
     "output_type": "execute_result"
    }
   ],
   "source": [
    "df.query(\"churned == 0\")"
   ]
  },
  {
   "cell_type": "code",
   "execution_count": 67,
   "metadata": {},
   "outputs": [
    {
     "data": {
      "text/plain": [
       "start_year  churned\n",
       "2020        0          471\n",
       "            1           29\n",
       "2021        0          441\n",
       "            1           59\n",
       "2022        0          404\n",
       "            1           96\n",
       "Name: count, dtype: int64"
      ]
     },
     "execution_count": 67,
     "metadata": {},
     "output_type": "execute_result"
    }
   ],
   "source": [
    "df.groupby(['start_year'])['churned'].value_counts()"
   ]
  },
  {
   "cell_type": "code",
   "execution_count": 68,
   "metadata": {},
   "outputs": [
    {
     "data": {
      "image/png": "[encoded data removed]",
      "text/plain": [
       "<Figure size 800x600 with 1 Axes>"
      ]
     },
     "metadata": {},
     "output_type": "display_data"
    }
   ],
   "source": [
    "# Plot Kaplan-Meier curves for different start years\n",
    "\n",
    "kmf = KaplanMeierFitter()\n",
    "plt.figure(figsize=(8, 6))\n",
    "\n",
    "for year in start_years:\n",
    "    mask = df['start_year'] == year\n",
    "    kmf.fit(\n",
    "        durations=df.loc[mask, 'time_to_churn'],\n",
    "        event_observed=df.loc[mask, 'churned'],\n",
    "        label=f'Start year {year}'\n",
    "    )\n",
    "    kmf.plot()\n",
    "\n",
    "plt.title('Kaplan-Meier Survival Curves by Start Year')\n",
    "plt.xlabel('Time (days)')\n",
    "plt.ylabel('Survival probability')\n",
    "plt.grid(True)\n",
    "plt.show()"
   ]
  },
  {
   "cell_type": "code",
   "execution_count": null,
   "metadata": {},
   "outputs": [],
   "source": []
  },
  {
   "cell_type": "markdown",
   "metadata": {},
   "source": [
    "## Example 4: Feature Selection\n",
    "\n",
    "- horTh: hormonal therapy, a factor at two levels no and yes.\n",
    "\n",
    "- age: of the patients in years.\n",
    "- menostat: 0 menopausal status, a factor at two levels pre (premenopausal) and post (postmenopausal).\n",
    "- tsize: tumor size (in mm).\n",
    "- tgrade: tumor grade, a ordered factor at levels I < II < III.\n",
    "- pnodes: number of positive nodes.\n",
    "- progrec: progesterone receptor (in fmol).\n",
    "- estrec: estrogen receptor (in fmol).\n",
    "\n",
    "time: recurrence free survival time (in days).\n",
    "\n",
    "cens: censoring indicator (0- censored, 1- event)."
   ]
  },
  {
   "cell_type": "markdown",
   "metadata": {},
   "source": [
    "Dataset from:\n",
    "\n",
    "V.J. Menon and D.C. Agrawal,  Renewal Rate of Filament Lamps: \n",
    "Theory and Experiment. Journal of Failure Analysis and Prevention. \n",
    "December 2007, p. 421, Table 2/\n",
    "DOI: 10.1007/s11668-007-9074-9\n",
    "\n",
    "Description:\n",
    "\n",
    "An assembly of 50 new Philips (India) lamps with the \n",
    "rating 40 W, 220 V (AC) was taken and installed in the horizontal \n",
    "orientation and uniformly distributed over a lab area 11 m by 7 m. \n",
    "\n",
    "The assembly was monitored at regular intervals of 12 h to\n",
    "look for failures. The instants of recorded failures were\n",
    "called t‘ and a total of 32 data points were obtained such\n",
    "that even the last bulb failed. \n",
    "\n",
    "Variables:\n",
    "\n",
    "i - observation number\n",
    "h - time in hours since experiment start\n",
    "f - number of failed lamps at particular time h\n",
    "K - number of surviving lamps  at particular time h"
   ]
  },
  {
   "cell_type": "code",
   "execution_count": 94,
   "metadata": {},
   "outputs": [],
   "source": [
    "from lifelines.datasets import load_kidney_transplant, load_gbsg2\n",
    "# df = load_kidney_transplant()\n",
    "df = load_gbsg2()"
   ]
  },
  {
   "cell_type": "code",
   "execution_count": 97,
   "metadata": {},
   "outputs": [
    {
     "data": {
      "text/plain": [
       "tgrade\n",
       "II     444\n",
       "III    161\n",
       "I       81\n",
       "Name: count, dtype: int64"
      ]
     },
     "execution_count": 97,
     "metadata": {},
     "output_type": "execute_result"
    }
   ],
   "source": [
    "df['tgrade'].value_counts()"
   ]
  },
  {
   "cell_type": "code",
   "execution_count": 93,
   "metadata": {},
   "outputs": [
    {
     "data": {
      "text/plain": [
       "<Axes: xlabel='timeline'>"
      ]
     },
     "execution_count": 93,
     "metadata": {},
     "output_type": "execute_result"
    },
    {
     "data": {
      "image/png": "[encoded data removed]",
      "text/plain": [
       "<Figure size 640x480 with 1 Axes>"
      ]
     },
     "metadata": {},
     "output_type": "display_data"
    }
   ],
   "source": [
    "from lifelines.datasets import load_rossi\n",
    "import numpy as np\n",
    "\n",
    "# loading data \n",
    "data = load_rossi()\n",
    "treat = data.query(\"fin == 1\") \n",
    "ctrl = data.query(\"fin == 0\")\n",
    "\n",
    "# init & Fitting KM curves \n",
    "ax = plt.subplot(111)\n",
    "t = np.linspace(0, 4000, 4000)\n",
    "kmf1 = KaplanMeierFitter()\n",
    "kmf2 = KaplanMeierFitter()\n",
    "kmf1.fit(df['time'], df['death'], timeline=t, label=\"fin. aid Yes\")\n",
    "\n",
    "\n",
    "# # plotting the KM curves\n",
    "kmf1.plot(ax=ax)\n",
    "# ax.set_title(\"Criminal Recidivism in 52-week After Release\");\n",
    "# ax.set_ylabel(\"P(surviving from getting rearrested)\");\n",
    "# # ax.set_ylabel(\"Prob. of getting rearrested\");\n",
    "# ax.set_xlabel(\"time (week)\");"
   ]
  },
  {
   "cell_type": "markdown",
   "metadata": {},
   "source": [
    "## Example 5: Detecting Data Bias "
   ]
  },
  {
   "cell_type": "markdown",
   "metadata": {},
   "source": [
    "## Example 6: Hazard Function"
   ]
  },
  {
   "cell_type": "markdown",
   "metadata": {},
   "source": [
    "# "
   ]
  },
  {
   "cell_type": "markdown",
   "metadata": {},
   "source": [
    "# Best practices for visualising Kaplan-Meier plots\n",
    "\n",
    "In a recent survey from variaty of stakeholders in healthcares, suggested that the addition of summary tables and confidence intervals  greatly increased the effectiveness of Kaplan Meier plots\n",
    "[article](https://pubmed.ncbi.nlm.nih.gov/31575572/)"
   ]
  },
  {
   "cell_type": "code",
   "execution_count": null,
   "metadata": {},
   "outputs": [],
   "source": []
  },
  {
   "cell_type": "markdown",
   "metadata": {},
   "source": []
  },
  {
   "cell_type": "markdown",
   "metadata": {},
   "source": [
    "# Challenging Scenarios\n",
    "* Accounting for time-varying covariates\n",
    "    * Low-frequency time-varying variables for example age, sex:\n",
    "    * High-frequqncy time-varying variables for example stock price fluctuation \n",
    "\n",
    "* Controling for covariates: \n",
    "    * We already know that KM visualize the outcome. However, in causal inference scenarios we are interested in visualising the outcome between treatment and control groups where the distribution of the featues set are overlapping.   "
   ]
  },
  {
   "cell_type": "markdown",
   "metadata": {},
   "source": [
    "# Summary & Take Aways\n",
    "\n",
    "* If there are no censored observations and all subjects die KM-curve reaces zero, otherwise to the fraction of subjects that survived. \n",
    "* If the data for any subjects are censored, the bottom point on the survival curve will not equal the fraction of subjects that survived. [link for further reading](https://www.graphpad.com/support/faq/what-determines-how-low-a-kaplan-meier-survival-curve-ends-up-at-late-time-points/#:~:text=If%20there%20are%20no%20censored,the%20percent%20survival%20is%20zero.)\n",
    "\n",
    "* If the survival curve goes all the way down tozero, that does not mean that every subject in the study died and some could be probably censored. "
   ]
  },
  {
   "cell_type": "code",
   "execution_count": null,
   "metadata": {},
   "outputs": [],
   "source": []
  },
  {
   "cell_type": "markdown",
   "metadata": {},
   "source": [
    "# Advanced Topics\n",
    "\n",
    "- How to handle time-series data?"
   ]
  },
  {
   "cell_type": "markdown",
   "metadata": {},
   "source": [
    "## Example 6: Correcting for covariates\n"
   ]
  },
  {
   "cell_type": "markdown",
   "metadata": {},
   "source": []
  }
 ],
 "metadata": {
  "kernelspec": {
   "display_name": "Python 3",
   "language": "python",
   "name": "python3"
  },
  "language_info": {
   "codemirror_mode": {
    "name": "ipython",
    "version": 3
   },
   "file_extension": ".py",
   "mimetype": "text/x-python",
   "name": "python",
   "nbconvert_exporter": "python",
   "pygments_lexer": "ipython3",
   "version": "3.11.11"
  }
 },
 "nbformat": 4,
 "nbformat_minor": 2
}
