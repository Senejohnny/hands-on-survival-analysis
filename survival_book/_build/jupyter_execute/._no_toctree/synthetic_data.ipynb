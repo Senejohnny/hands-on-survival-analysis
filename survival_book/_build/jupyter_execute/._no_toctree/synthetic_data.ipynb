{
 "cells": [
  {
   "cell_type": "code",
   "execution_count": 1,
   "metadata": {},
   "outputs": [
    {
     "ename": "ValueError",
     "evalue": "operands could not be broadcast together with shapes (450,) (1500,) ",
     "output_type": "error",
     "traceback": [
      "\u001b[31m---------------------------------------------------------------------------\u001b[39m",
      "\u001b[31mValueError\u001b[39m                                Traceback (most recent call last)",
      "\u001b[36mCell\u001b[39m\u001b[36m \u001b[39m\u001b[32mIn[1]\u001b[39m\u001b[32m, line 31\u001b[39m\n\u001b[32m     29\u001b[39m base_churn_time = np.random.exponential(scale=\u001b[32m70\u001b[39m, size=\u001b[38;5;28mint\u001b[39m(n_clients * \u001b[32m0.3\u001b[39m) )\n\u001b[32m     30\u001b[39m years_active = (datetime(\u001b[32m2025\u001b[39m, \u001b[32m3\u001b[39m, \u001b[32m16\u001b[39m) - start_dates).astype(\u001b[33m'\u001b[39m\u001b[33mtimedelta64[D]\u001b[39m\u001b[33m'\u001b[39m).astype(\u001b[38;5;28mint\u001b[39m)\n\u001b[32m---> \u001b[39m\u001b[32m31\u001b[39m time_to_churn = \u001b[43mbase_churn_time\u001b[49m\u001b[43m \u001b[49m\u001b[43m*\u001b[49m\u001b[43m \u001b[49m\u001b[43m(\u001b[49m\u001b[32;43m1\u001b[39;49m\u001b[43m \u001b[49m\u001b[43m+\u001b[49m\u001b[43m \u001b[49m\u001b[43myears_active\u001b[49m\u001b[43m \u001b[49m\u001b[43m*\u001b[49m\u001b[43m \u001b[49m\u001b[32;43m0.001\u001b[39;49m\u001b[43m)\u001b[49m\n\u001b[32m     33\u001b[39m \u001b[38;5;66;03m# Generate censoring indicator (1 = churned, 0 = still active)\u001b[39;00m\n\u001b[32m     34\u001b[39m \u001b[38;5;66;03m# Older clients are more likely to be censored (survived longer)\u001b[39;00m\n\u001b[32m     35\u001b[39m censoring_prob = \u001b[32m0.4\u001b[39m - (years_active * \u001b[32m0.0002\u001b[39m)\n",
      "\u001b[31mValueError\u001b[39m: operands could not be broadcast together with shapes (450,) (1500,) "
     ]
    }
   ],
   "source": [
    "import numpy as np\n",
    "import pandas as pd\n",
    "from lifelines import KaplanMeierFitter\n",
    "import matplotlib.pyplot as plt\n",
    "from datetime import datetime, timedelta\n",
    "\n",
    "# Set random seed for reproducibility\n",
    "np.random.seed(42)\n",
    "\n",
    "# Generate synthetic data\n",
    "n_clients = 1500  # 500 clients per start year\n",
    "\n",
    "# Define start years and generate dates\n",
    "start_years = [2020, 2021, 2022]\n",
    "clients_per_year = n_clients // len(start_years)\n",
    "\n",
    "start_dates = []\n",
    "for year in start_years:\n",
    "    # Generate random dates within each year\n",
    "    dates = [datetime(year, 1, 1) + timedelta(days=np.random.randint(0, 365)) \n",
    "            for _ in range(clients_per_year)]\n",
    "    start_dates.extend(dates)\n",
    "\n",
    "# Convert to numpy array\n",
    "start_dates = np.array(start_dates)\n",
    "\n",
    "# Generate time to churn (in days)\n",
    "# More recent clients tend to churn faster\n",
    "base_churn_time = np.random.exponential(scale=70, size=int(n_clients * 0.3) )\n",
    "years_active = (datetime(2025, 3, 16) - start_dates).astype('timedelta64[D]').astype(int)\n",
    "time_to_churn = base_churn_time * (1 + years_active * 0.001)\n",
    "\n",
    "# Generate censoring indicator (1 = churned, 0 = still active)\n",
    "# Older clients are more likely to be censored (survived longer)\n",
    "censoring_prob = 0.4 - (years_active * 0.0002)\n",
    "censored = np.random.binomial(n=1, p=censoring_prob, size=n_clients)\n",
    "\n",
    "# Create DataFrame\n",
    "df = pd.DataFrame({\n",
    "    'start_date': start_dates,\n",
    "    'start_year': [d.year for d in start_dates],\n",
    "    'time_to_churn': time_to_churn,\n",
    "    'churned': censored,\n",
    "    'years_active': years_active / 365\n",
    "})"
   ]
  },
  {
   "cell_type": "markdown",
   "metadata": {},
   "source": []
  },
  {
   "cell_type": "code",
   "execution_count": 2,
   "metadata": {},
   "outputs": [
    {
     "ename": "NameError",
     "evalue": "name 'df' is not defined",
     "output_type": "error",
     "traceback": [
      "\u001b[31m---------------------------------------------------------------------------\u001b[39m",
      "\u001b[31mNameError\u001b[39m                                 Traceback (most recent call last)",
      "\u001b[36mCell\u001b[39m\u001b[36m \u001b[39m\u001b[32mIn[2]\u001b[39m\u001b[32m, line 7\u001b[39m\n\u001b[32m      4\u001b[39m plt.figure(figsize=(\u001b[32m8\u001b[39m, \u001b[32m6\u001b[39m))\n\u001b[32m      6\u001b[39m \u001b[38;5;28;01mfor\u001b[39;00m year \u001b[38;5;129;01min\u001b[39;00m start_years:\n\u001b[32m----> \u001b[39m\u001b[32m7\u001b[39m     mask = \u001b[43mdf\u001b[49m[\u001b[33m'\u001b[39m\u001b[33mstart_year\u001b[39m\u001b[33m'\u001b[39m] == year\n\u001b[32m      8\u001b[39m     kmf.fit(\n\u001b[32m      9\u001b[39m         durations=df.loc[mask, \u001b[33m'\u001b[39m\u001b[33mtime_to_churn\u001b[39m\u001b[33m'\u001b[39m],\n\u001b[32m     10\u001b[39m         event_observed=df.loc[mask, \u001b[33m'\u001b[39m\u001b[33mchurned\u001b[39m\u001b[33m'\u001b[39m],\n\u001b[32m     11\u001b[39m         label=\u001b[33mf\u001b[39m\u001b[33m'\u001b[39m\u001b[33mStart year \u001b[39m\u001b[38;5;132;01m{\u001b[39;00myear\u001b[38;5;132;01m}\u001b[39;00m\u001b[33m'\u001b[39m\n\u001b[32m     12\u001b[39m     )\n\u001b[32m     13\u001b[39m     kmf.plot()\n",
      "\u001b[31mNameError\u001b[39m: name 'df' is not defined"
     ]
    },
    {
     "data": {
      "text/plain": [
       "<Figure size 800x600 with 0 Axes>"
      ]
     },
     "metadata": {},
     "output_type": "display_data"
    }
   ],
   "source": [
    "# Plot Kaplan-Meier curves for different start years\n",
    "\n",
    "kmf = KaplanMeierFitter()\n",
    "plt.figure(figsize=(8, 6))\n",
    "\n",
    "for year in start_years:\n",
    "    mask = df['start_year'] == year\n",
    "    kmf.fit(\n",
    "        durations=df.loc[mask, 'time_to_churn'],\n",
    "        event_observed=df.loc[mask, 'churned'],\n",
    "        label=f'Start year {year}'\n",
    "    )\n",
    "    kmf.plot()\n",
    "\n",
    "plt.title('Kaplan-Meier Survival Curves by Start Year')\n",
    "plt.xlabel('Time (days)')\n",
    "plt.ylabel('Survival probability')\n",
    "plt.grid(True)\n",
    "plt.show()"
   ]
  },
  {
   "cell_type": "code",
   "execution_count": null,
   "metadata": {},
   "outputs": [
    {
     "data": {
      "text/html": [
       "<div>\n",
       "<style scoped>\n",
       "    .dataframe tbody tr th:only-of-type {\n",
       "        vertical-align: middle;\n",
       "    }\n",
       "\n",
       "    .dataframe tbody tr th {\n",
       "        vertical-align: top;\n",
       "    }\n",
       "\n",
       "    .dataframe thead th {\n",
       "        text-align: right;\n",
       "    }\n",
       "</style>\n",
       "<table border=\"1\" class=\"dataframe\">\n",
       "  <thead>\n",
       "    <tr style=\"text-align: right;\">\n",
       "      <th></th>\n",
       "      <th>start_year</th>\n",
       "      <th>time</th>\n",
       "      <th>event</th>\n",
       "    </tr>\n",
       "  </thead>\n",
       "  <tbody>\n",
       "    <tr>\n",
       "      <th>0</th>\n",
       "      <td>2021</td>\n",
       "      <td>331.546294</td>\n",
       "      <td>1</td>\n",
       "    </tr>\n",
       "    <tr>\n",
       "      <th>1</th>\n",
       "      <td>2019</td>\n",
       "      <td>451.532692</td>\n",
       "      <td>1</td>\n",
       "    </tr>\n",
       "    <tr>\n",
       "      <th>2</th>\n",
       "      <td>2021</td>\n",
       "      <td>283.661896</td>\n",
       "      <td>1</td>\n",
       "    </tr>\n",
       "    <tr>\n",
       "      <th>3</th>\n",
       "      <td>2021</td>\n",
       "      <td>2367.172474</td>\n",
       "      <td>0</td>\n",
       "    </tr>\n",
       "    <tr>\n",
       "      <th>4</th>\n",
       "      <td>2019</td>\n",
       "      <td>435.176855</td>\n",
       "      <td>1</td>\n",
       "    </tr>\n",
       "    <tr>\n",
       "      <th>...</th>\n",
       "      <td>...</td>\n",
       "      <td>...</td>\n",
       "      <td>...</td>\n",
       "    </tr>\n",
       "    <tr>\n",
       "      <th>2995</th>\n",
       "      <td>2021</td>\n",
       "      <td>70.895440</td>\n",
       "      <td>1</td>\n",
       "    </tr>\n",
       "    <tr>\n",
       "      <th>2996</th>\n",
       "      <td>2019</td>\n",
       "      <td>1730.725478</td>\n",
       "      <td>1</td>\n",
       "    </tr>\n",
       "    <tr>\n",
       "      <th>2997</th>\n",
       "      <td>2019</td>\n",
       "      <td>252.832290</td>\n",
       "      <td>1</td>\n",
       "    </tr>\n",
       "    <tr>\n",
       "      <th>2998</th>\n",
       "      <td>2020</td>\n",
       "      <td>463.338637</td>\n",
       "      <td>1</td>\n",
       "    </tr>\n",
       "    <tr>\n",
       "      <th>2999</th>\n",
       "      <td>2020</td>\n",
       "      <td>1549.576850</td>\n",
       "      <td>0</td>\n",
       "    </tr>\n",
       "  </tbody>\n",
       "</table>\n",
       "<p>3000 rows × 3 columns</p>\n",
       "</div>"
      ],
      "text/plain": [
       "      start_year         time  event\n",
       "0           2021   331.546294      1\n",
       "1           2019   451.532692      1\n",
       "2           2021   283.661896      1\n",
       "3           2021  2367.172474      0\n",
       "4           2019   435.176855      1\n",
       "...          ...          ...    ...\n",
       "2995        2021    70.895440      1\n",
       "2996        2019  1730.725478      1\n",
       "2997        2019   252.832290      1\n",
       "2998        2020   463.338637      1\n",
       "2999        2020  1549.576850      0\n",
       "\n",
       "[3000 rows x 3 columns]"
      ]
     },
     "execution_count": 8,
     "metadata": {},
     "output_type": "execute_result"
    }
   ],
   "source": [
    "import numpy as np\n",
    "import pandas as pd\n",
    "from datetime import datetime, timedelta\n",
    "\n",
    "# Set random seed for reproducibility\n",
    "np.random.seed(42)\n",
    "\n",
    "# Generate sample data\n",
    "n_customers = 3000\n",
    "\n",
    "# Create start dates between 2019-2021\n",
    "start_years = np.random.choice([2019, 2020, 2021], size=n_customers)\n",
    "\n",
    "# Generate survival times (in days) with different distributions per year\n",
    "survival_times = []\n",
    "for year in start_years:\n",
    "    if year == 2019:\n",
    "        # Longer retention for older customers\n",
    "        times = np.random.weibull(1.5, 1) * 1000\n",
    "    elif year == 2020:\n",
    "        # Medium retention\n",
    "        times = np.random.weibull(1.2, 1) * 1000\n",
    "    else:  # 2021\n",
    "        # Shorter observation period\n",
    "        times = np.random.weibull(1.0, 1) * 1000\n",
    "    survival_times.extend(times)\n",
    "\n",
    "# Generate censoring indicators (1 = churned, 0 = censored)\n",
    "censoring = np.random.binomial(n=1, p=0.7, size=n_customers)\n",
    "\n",
    "# Create DataFrame\n",
    "df = pd.DataFrame({\n",
    "    'start_year': start_years,\n",
    "    'time': survival_times,\n",
    "    'event': censoring\n",
    "})\n",
    "\n",
    "\n",
    "df"
   ]
  },
  {
   "cell_type": "code",
   "execution_count": null,
   "metadata": {},
   "outputs": [
    {
     "data": {
      "text/plain": [
       "array([[<Axes: title={'center': '0'}>]], dtype=object)"
      ]
     },
     "execution_count": 3,
     "metadata": {},
     "output_type": "execute_result"
    },
    {
     "data": {
      "image/png": "[encoded data removed]",
      "text/plain": [
       "<Figure size 640x480 with 1 Axes>"
      ]
     },
     "metadata": {},
     "output_type": "display_data"
    }
   ],
   "source": [
    "pd.DataFrame(base_churn_time).hist()"
   ]
  },
  {
   "cell_type": "code",
   "execution_count": 1,
   "metadata": {},
   "outputs": [
    {
     "ename": "NameError",
     "evalue": "name 'np' is not defined",
     "output_type": "error",
     "traceback": [
      "\u001b[31m---------------------------------------------------------------------------\u001b[39m",
      "\u001b[31mNameError\u001b[39m                                 Traceback (most recent call last)",
      "\u001b[36mCell\u001b[39m\u001b[36m \u001b[39m\u001b[32mIn[1]\u001b[39m\u001b[32m, line 1\u001b[39m\n\u001b[32m----> \u001b[39m\u001b[32m1\u001b[39m censoring = \u001b[43mnp\u001b[49m.random.binomial(n=\u001b[32m1\u001b[39m, p=\u001b[32m0.7\u001b[39m, size=\u001b[32m1000\u001b[39m)\n",
      "\u001b[31mNameError\u001b[39m: name 'np' is not defined"
     ]
    }
   ],
   "source": [
    "censoring = np.random.binomial(n=1, p=0.7, size=1000)"
   ]
  },
  {
   "cell_type": "code",
   "execution_count": null,
   "metadata": {},
   "outputs": [],
   "source": []
  }
 ],
 "metadata": {
  "kernelspec": {
   "display_name": "Python 3",
   "language": "python",
   "name": "python3"
  },
  "language_info": {
   "codemirror_mode": {
    "name": "ipython",
    "version": 3
   },
   "file_extension": ".py",
   "mimetype": "text/x-python",
   "name": "python",
   "nbconvert_exporter": "python",
   "pygments_lexer": "ipython3",
   "version": "3.11.11"
  }
 },
 "nbformat": 4,
 "nbformat_minor": 2
}